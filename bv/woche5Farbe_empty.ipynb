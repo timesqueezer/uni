{
 "cells": [
  {
   "cell_type": "markdown",
   "metadata": {
    "id": "kepUYY7kXveb"
   },
   "source": [
    "Wir laden zunächst wieder ein Bild aus skimage.data. Diesmal ist es jedoch ein Farbbild."
   ]
  },
  {
   "cell_type": "code",
   "execution_count": null,
   "metadata": {
    "id": "uQXlzTX4jgIh"
   },
   "outputs": [],
   "source": [
    "import matplotlib.pyplot as plt\n",
    "import numpy as np\n",
    "\n",
    "from skimage.data import astronaut\n",
    "img = astronaut()"
   ]
  },
  {
   "cell_type": "markdown",
   "metadata": {
    "id": "MWb3O1YCkabk"
   },
   "source": [
    "Lasst euch das Bild mit `matplotlib.pyplot` anzeigen. Was ändert sich am Aufruf im Vergleich zu Graustufenbildern?"
   ]
  },
  {
   "cell_type": "code",
   "execution_count": null,
   "metadata": {
    "id": "Mr6CQdmQkBF9"
   },
   "outputs": [],
   "source": []
  },
  {
   "cell_type": "markdown",
   "metadata": {
    "id": "XZ9JKkA5YPV-"
   },
   "source": [
    "Invertiert nun das Bild. Welche Farben wird die Flagge der USA im Hintergund nun haben?"
   ]
  },
  {
   "cell_type": "code",
   "execution_count": null,
   "metadata": {
    "id": "UwxAhyaPkc6e"
   },
   "outputs": [],
   "source": []
  },
  {
   "cell_type": "markdown",
   "metadata": {
    "id": "XXHf7kHBYSNh"
   },
   "source": [
    "Berechnet den Mittelwert des Bildes je Farbkanal, ohne die Farbkanäle zu extrahieren."
   ]
  },
  {
   "cell_type": "code",
   "execution_count": null,
   "metadata": {
    "id": "5P-rNmLpnXgl"
   },
   "outputs": [],
   "source": []
  },
  {
   "cell_type": "markdown",
   "metadata": {
    "id": "0EJk4zc6YTBO"
   },
   "source": [
    "Extrahiert die Farbkanäle und visualisiert diese einzeln als Graustufenbilder. Was lässt sich daraus ablesen?"
   ]
  },
  {
   "cell_type": "code",
   "execution_count": null,
   "metadata": {
    "id": "jtMvAN8eknCJ"
   },
   "outputs": [],
   "source": []
  },
  {
   "cell_type": "markdown",
   "metadata": {
    "id": "s89VrOvaYUkO"
   },
   "source": [
    "Setzt die einzelnen Farbkanäle wieder zu einem Farbbild zusammen, tauscht dabei jedoch den Rot-Kanal mit den Blau-Kanal. Was wird sich nun ändern im Vergleich zum Original?"
   ]
  },
  {
   "cell_type": "code",
   "execution_count": null,
   "metadata": {
    "id": "MShD_6yBlBuc"
   },
   "outputs": [],
   "source": []
  },
  {
   "cell_type": "markdown",
   "metadata": {
    "id": "pOQpkM5gYVeS"
   },
   "source": [
    "Wandelt nun das Bild in eine Graustufenbild um."
   ]
  },
  {
   "cell_type": "code",
   "execution_count": null,
   "metadata": {
    "id": "Fp-dRTX8lHUe"
   },
   "outputs": [],
   "source": []
  },
  {
   "cell_type": "markdown",
   "metadata": {
    "id": "zy168-KbYWkM"
   },
   "source": [
    "Transformiert das Bild nun in den HSV-Farbraum und dreht die Sättigung voll auf. Welche Auswirkungen hat dies auf das Bild?"
   ]
  },
  {
   "cell_type": "code",
   "execution_count": null,
   "metadata": {
    "id": "mzt0OEF7leu2"
   },
   "outputs": [],
   "source": []
  },
  {
   "cell_type": "markdown",
   "metadata": {
    "id": "KHqw6U2PYXHK"
   },
   "source": [
    "Rotiert nun den Farbwert (hue) im Farbkreis um bspw. 120 oder 240 Grad. Welche Auswirkungen auf das Bild hat diese Veränderung?"
   ]
  },
  {
   "cell_type": "code",
   "execution_count": null,
   "metadata": {
    "id": "kE0SNRjll30a"
   },
   "outputs": [],
   "source": []
  },
  {
   "cell_type": "code",
   "execution_count": null,
   "metadata": {
    "id": "QIiK4oBcmGG5"
   },
   "outputs": [],
   "source": []
  }
 ],
 "metadata": {
  "colab": {
   "collapsed_sections": [],
   "name": "Woche5Farbe_empty.ipynb",
   "provenance": []
  },
  "kernelspec": {
   "display_name": "Python 3",
   "language": "python",
   "name": "python3"
  },
  "language_info": {
   "codemirror_mode": {
    "name": "ipython",
    "version": 3
   },
   "file_extension": ".py",
   "mimetype": "text/x-python",
   "name": "python",
   "nbconvert_exporter": "python",
   "pygments_lexer": "ipython3",
   "version": "3.9.4"
  }
 },
 "nbformat": 4,
 "nbformat_minor": 1
}
