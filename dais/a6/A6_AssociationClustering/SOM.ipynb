{
 "cells": [
  {
   "cell_type": "markdown",
   "id": "30fa46b5",
   "metadata": {},
   "source": [
    "# 3 The Self-organizing Map (SOM)"
   ]
  },
  {
   "cell_type": "markdown",
   "id": "7595fe8a",
   "metadata": {
    "pycharm": {
     "name": "#%% md\n"
    }
   },
   "source": [
    "In this task, we will implement some python functions for the self-organizing map (SOM), or self-organizing feature map algorithm. The SOM is an artificial neural network used for clustering and dimensionality reduction. Its goal is to find a high-quality topological respresentation of the input space (also called _map_)."
   ]
  },
  {
   "cell_type": "code",
   "execution_count": 2,
   "id": "8ebcfa8f",
   "metadata": {
    "jupyter": {
     "outputs_hidden": false
    },
    "pycharm": {
     "name": "#%%\n"
    }
   },
   "outputs": [],
   "source": [
    "# Load libraries\n",
    "import numpy as np\n",
    "import matplotlib.pyplot as plt\n",
    "from sklearn import datasets\n",
    "from sklearn.preprocessing import StandardScaler\n",
    "\n",
    "np.random.seed(42)"
   ]
  },
  {
   "cell_type": "markdown",
   "id": "b31c47d2",
   "metadata": {},
   "source": [
    "First, we will load the [Iris Flower Dataset](https://scikit-learn.org/stable/auto_examples/datasets/plot_iris_dataset.html) that we will use for training our SOM. We will also apply the [StandardScaler](https://scikit-learn.org/stable/modules/generated/sklearn.preprocessing.StandardScaler.html) that scales all features to zero mean and unit variance."
   ]
  },
  {
   "cell_type": "code",
   "execution_count": 3,
   "id": "e71bcdb8",
   "metadata": {},
   "outputs": [],
   "source": [
    "iris = datasets.load_iris()\n",
    "iris_data = iris.data"
   ]
  },
  {
   "cell_type": "code",
   "execution_count": 4,
   "id": "7671336f",
   "metadata": {},
   "outputs": [
    {
     "name": "stdout",
     "output_type": "stream",
     "text": [
      ".. _iris_dataset:\n",
      "\n",
      "Iris plants dataset\n",
      "--------------------\n",
      "\n",
      "**Data Set Characteristics:**\n",
      "\n",
      "    :Number of Instances: 150 (50 in each of three classes)\n",
      "    :Number of Attributes: 4 numeric, predictive attributes and the class\n",
      "    :Attribute Information:\n",
      "        - sepal length in cm\n",
      "        - sepal width in cm\n",
      "        - petal length in cm\n",
      "        - petal width in cm\n",
      "        - class:\n",
      "                - Iris-Setosa\n",
      "                - Iris-Versicolour\n",
      "                - Iris-Virginica\n",
      "                \n",
      "    :Summary Statistics:\n",
      "\n",
      "    ============== ==== ==== ======= ===== ====================\n",
      "                    Min  Max   Mean    SD   Class Correlation\n",
      "    ============== ==== ==== ======= ===== ====================\n",
      "    sepal length:   4.3  7.9   5.84   0.83    0.7826\n",
      "    sepal width:    2.0  4.4   3.05   0.43   -0.4194\n",
      "    petal length:   1.0  6.9   3.76   1.76    0.9490  (high!)\n",
      "    petal width:    0.1  2.5   1.20   0.76    0.9565  (high!)\n",
      "    ============== ==== ==== ======= ===== ====================\n",
      "\n",
      "    :Missing Attribute Values: None\n",
      "    :Class Distribution: 33.3% for each of 3 classes.\n",
      "    :Creator: R.A. Fisher\n",
      "    :Donor: Michael Marshall (MARSHALL%PLU@io.arc.nasa.gov)\n",
      "    :Date: July, 1988\n",
      "\n",
      "The famous Iris database, first used by Sir R.A. Fisher. The dataset is taken\n",
      "from Fisher's paper. Note that it's the same as in R, but not as in the UCI\n",
      "Machine Learning Repository, which has two wrong data points.\n",
      "\n",
      "This is perhaps the best known database to be found in the\n",
      "pattern recognition literature.  Fisher's paper is a classic in the field and\n",
      "is referenced frequently to this day.  (See Duda & Hart, for example.)  The\n",
      "data set contains 3 classes of 50 instances each, where each class refers to a\n",
      "type of iris plant.  One class is linearly separable from the other 2; the\n",
      "latter are NOT linearly separable from each other.\n",
      "\n",
      ".. topic:: References\n",
      "\n",
      "   - Fisher, R.A. \"The use of multiple measurements in taxonomic problems\"\n",
      "     Annual Eugenics, 7, Part II, 179-188 (1936); also in \"Contributions to\n",
      "     Mathematical Statistics\" (John Wiley, NY, 1950).\n",
      "   - Duda, R.O., & Hart, P.E. (1973) Pattern Classification and Scene Analysis.\n",
      "     (Q327.D83) John Wiley & Sons.  ISBN 0-471-22361-1.  See page 218.\n",
      "   - Dasarathy, B.V. (1980) \"Nosing Around the Neighborhood: A New System\n",
      "     Structure and Classification Rule for Recognition in Partially Exposed\n",
      "     Environments\".  IEEE Transactions on Pattern Analysis and Machine\n",
      "     Intelligence, Vol. PAMI-2, No. 1, 67-71.\n",
      "   - Gates, G.W. (1972) \"The Reduced Nearest Neighbor Rule\".  IEEE Transactions\n",
      "     on Information Theory, May 1972, 431-433.\n",
      "   - See also: 1988 MLC Proceedings, 54-64.  Cheeseman et al\"s AUTOCLASS II\n",
      "     conceptual clustering system finds 3 classes in the data.\n",
      "   - Many, many more ...\n"
     ]
    }
   ],
   "source": [
    "print(iris.DESCR)"
   ]
  },
  {
   "cell_type": "code",
   "execution_count": 5,
   "id": "b2db87be",
   "metadata": {},
   "outputs": [],
   "source": [
    "scaler = StandardScaler()\n",
    "iris_scaled = scaler.fit_transform(iris_data)"
   ]
  },
  {
   "cell_type": "markdown",
   "id": "4856a794",
   "metadata": {},
   "source": [
    "So, how does a sample look like when the scaling operation is applied?"
   ]
  },
  {
   "cell_type": "code",
   "execution_count": 13,
   "id": "d215145f",
   "metadata": {},
   "outputs": [
    {
     "data": {
      "text/plain": [
       "(150, 4)"
      ]
     },
     "execution_count": 13,
     "metadata": {},
     "output_type": "execute_result"
    }
   ],
   "source": [
    "iris_data.shape"
   ]
  },
  {
   "cell_type": "code",
   "execution_count": 7,
   "id": "3f0b3762",
   "metadata": {},
   "outputs": [
    {
     "data": {
      "text/plain": [
       "array([-0.90068117,  1.01900435, -1.34022653, -1.3154443 ])"
      ]
     },
     "execution_count": 7,
     "metadata": {},
     "output_type": "execute_result"
    }
   ],
   "source": [
    "iris_scaled[0]"
   ]
  },
  {
   "cell_type": "markdown",
   "id": "24dff21a",
   "metadata": {},
   "source": [
    "Now it's time to take a step further and get to now object-oriented Python programming. What you can see below is that we define our self-organizing map as a Python class that has the attributes \n",
    "- _size_ (number of nodes in the network), \n",
    "- _sigma_ (neighborhood learning coefficient whose value is dependent on the current iteration), \n",
    "- _nodes_ (list of all nodes in the network), and \n",
    "- _learning rate_ (determines how much other nodes are pulled towards the input).\n",
    "\n",
    "Also, the SOM class consists of several functions that are needed for training. Your job will be to implement the functions \n",
    "\n",
    "- _neighborhood_function(self, v, n_b)_ (takes the indices of the current network node $v$ and the winning node $n_b$, outputs the Gaussian neighboorhood pull factor according to $h(v, n_b) = - exp \\left( -\\frac{d_{v, n_b}^2}{2 \\cdot \\sigma^2} \\right)$, where $d_{v, n_b}$ is the Euclidean distance between the $v$-th and $n_b$-th network node)\n",
    "- _find_winner(self, x)_ (takes the current input sample and returns the index $n_b$ of the closest node in the network),\n",
    "- _update_network(self, x, n_b)_ (takes the current input sample and the index of the winner and updates all network nodes based on the input), and\n",
    "- _plot(self)_ (scatterplot of first two dimensions of the nodes in the network)."
   ]
  },
  {
   "cell_type": "code",
   "execution_count": 33,
   "id": "2eb10163",
   "metadata": {},
   "outputs": [],
   "source": [
    "class SOM:\n",
    "    \n",
    "    # Map Initialization\n",
    "    def __init__(self, rows, columns, dim, lr):\n",
    "        self.size = rows * columns\n",
    "        self.sigma = 1\n",
    "        self.nodes = np.random.normal(size=(rows * columns, dim))\n",
    "        \n",
    "        # learning rate\n",
    "        self.lr = lr\n",
    "        \n",
    "    def neighborhood_function(self, v, n_b):\n",
    "        d_vnb = np.linalg.norm(v-n_b)\n",
    "        h = -np.exp(-1 * (d_vnb**2) / (2 * (self.sigma**2)))\n",
    "        return h\n",
    "    \n",
    "    def find_winner(self, x):\n",
    "        n_b = min(self.nodes[0], key=lambda n: np.linalg.norm(x-n))\n",
    "        return n_b\n",
    "    \n",
    "    def update_network(self, x, n_b):\n",
    "        for i, n in enumerate(self.nodes):\n",
    "            self.nodes[i] += self.lr * self.neighborhood_function(n, n_b) * (x - self.nodes[i])\n",
    "     \n",
    "    def plot(self):\n",
    "        plt.title('Iris Self-organizing Map Scatterplot')\n",
    "\n",
    "        first_dim = self.nodes[:][0]\n",
    "        second_dim = self.nodes[:][1]\n",
    "\n",
    "        plt.scatter(first_dim, second_dim)\n",
    "        plt.xlabel('sepal length')\n",
    "        plt.ylabel('sepal width')"
   ]
  },
  {
   "cell_type": "markdown",
   "id": "3950dede",
   "metadata": {},
   "source": [
    "With the code given below, you can test your implemented functions with different learning rates / neighboorhood size adjustments. The steps below are the same ones as on slide 20 in the lecture slides on SOM. "
   ]
  },
  {
   "cell_type": "code",
   "execution_count": 36,
   "id": "09b8c901",
   "metadata": {},
   "outputs": [
    {
     "data": {
      "image/png": "[encoded data removed]",
      "text/plain": [
       "<Figure size 432x288 with 1 Axes>"
      ]
     },
     "metadata": {
      "needs_background": "light"
     },
     "output_type": "display_data"
    }
   ],
   "source": [
    "# Step 1: Initialize Network (10 x 10 nodes, learning rate 0.5)\n",
    "som = SOM(10, 10, iris_data.shape[1], 0.5)\n",
    "  \n",
    "# Step 2: Get Input\n",
    "for x in iris_scaled:\n",
    "    \n",
    "    # Step 3: Find Winner\n",
    "    n_b = som.find_winner(x)\n",
    "    \n",
    "    # Step 4: Update winner and neighborhood\n",
    "    som.update_network(x, n_b)\n",
    "    \n",
    "    # Step 5: Adjust neighborhood size\n",
    "    som.sigma /= 1.1\n",
    "    \n",
    "# Step 6: Plot network\n",
    "som.plot()   "
   ]
  },
  {
   "cell_type": "markdown",
   "id": "7892a1ab",
   "metadata": {},
   "source": [
    "_Hint 1: As this is an unsupervised learning method, you don't have to worry about accuracies etc., as long as your code works as described in the SOM lecture slides._\n",
    "\n",
    "_Hint 2: When plotting the network, don't forget to add labels and title to the plot!_\n",
    "\n",
    "Good luck with this task!"
   ]
  },
  {
   "cell_type": "code",
   "execution_count": null,
   "id": "1ffb8277",
   "metadata": {},
   "outputs": [],
   "source": []
  }
 ],
 "metadata": {
  "kernelspec": {
   "display_name": "Python 3",
   "language": "python",
   "name": "python3"
  },
  "language_info": {
   "codemirror_mode": {
    "name": "ipython",
    "version": 3
   },
   "file_extension": ".py",
   "mimetype": "text/x-python",
   "name": "python",
   "nbconvert_exporter": "python",
   "pygments_lexer": "ipython3",
   "version": "3.9.5"
  }
 },
 "nbformat": 4,
 "nbformat_minor": 5
}
