{
 "cells": [
  {
   "cell_type": "markdown",
   "id": "portuguese-cartridge",
   "metadata": {},
   "source": [
    "# 3 Python Functions\n",
    "\n",
    "In the following you will find different python functions that need to be filled with code, so that they return the desired output.\n",
    "\n",
    "Please do not change the function names!"
   ]
  },
  {
   "cell_type": "markdown",
   "id": "finite-anthropology",
   "metadata": {},
   "source": [
    "A typical Python function looks like this:"
   ]
  },
  {
   "cell_type": "code",
   "execution_count": null,
   "id": "downtown-saskatchewan",
   "metadata": {},
   "outputs": [],
   "source": [
    "def genericFunction(input1, input2):\n",
    "    \"\"\"docstring\"\"\"\n",
    "    # comment\n",
    "    a = 5\n",
    "    b = 3\n",
    "    c = a + b\n",
    "    return c"
   ]
  },
  {
   "cell_type": "markdown",
   "id": "rubber-resort",
   "metadata": {},
   "source": [
    "Note that the function body has to be indented!"
   ]
  },
  {
   "cell_type": "markdown",
   "id": "waiting-parade",
   "metadata": {},
   "source": [
    "Now, fill the following functions:"
   ]
  },
  {
   "cell_type": "markdown",
   "id": "parallel-custom",
   "metadata": {},
   "source": [
    "### 3.1\n",
    "Write a function that returns the sum of squares of two variables."
   ]
  },
  {
   "cell_type": "code",
   "execution_count": null,
   "id": "convenient-coating",
   "metadata": {},
   "outputs": [],
   "source": [
    "def sumOfSquares(a,b):\n",
    "    # your code here\n",
    "    return result"
   ]
  },
  {
   "cell_type": "markdown",
   "id": "exposed-plenty",
   "metadata": {},
   "source": [
    "### 3.2\n",
    "Write a function that increments the value of a variable by 1."
   ]
  },
  {
   "cell_type": "code",
   "execution_count": null,
   "id": "cooperative-permit",
   "metadata": {},
   "outputs": [],
   "source": [
    "def incrementByOne(a):\n",
    "    # your code here\n",
    "    return result"
   ]
  },
  {
   "cell_type": "markdown",
   "id": "complete-carry",
   "metadata": {},
   "source": [
    "### 3.3\n",
    "Write a function that increments the value of a variable by a number n."
   ]
  },
  {
   "cell_type": "code",
   "execution_count": null,
   "id": "handy-stability",
   "metadata": {},
   "outputs": [],
   "source": [
    "def incrementByN(a,n):\n",
    "    # your code here\n",
    "    return result"
   ]
  },
  {
   "cell_type": "markdown",
   "id": "expressed-inside",
   "metadata": {},
   "source": [
    "### 3.4\n",
    "Write a function that calculates the factorial of a number (n!)."
   ]
  },
  {
   "cell_type": "code",
   "execution_count": null,
   "id": "played-japanese",
   "metadata": {},
   "outputs": [],
   "source": [
    "def factorial(n):\n",
    "    # your code here\n",
    "    return result"
   ]
  },
  {
   "cell_type": "markdown",
   "id": "willing-slovenia",
   "metadata": {},
   "source": [
    "### 3.4\n",
    "Write a function that checks whether a number is between 1 and 10."
   ]
  },
  {
   "cell_type": "code",
   "execution_count": null,
   "id": "south-donna",
   "metadata": {},
   "outputs": [],
   "source": [
    "def betweenOneAndTen(a):\n",
    "    # your code here\n",
    "    return result"
   ]
  },
  {
   "cell_type": "markdown",
   "id": "elder-coordinator",
   "metadata": {},
   "source": [
    "### 3.5\n",
    "Write a function that checks for two numbers the following conditions: x > y"
   ]
  },
  {
   "cell_type": "code",
   "execution_count": null,
   "id": "shared-lingerie",
   "metadata": {},
   "outputs": [],
   "source": [
    "def xGreaterY(x,y):\n",
    "    # your code here\n",
    "    return result"
   ]
  },
  {
   "cell_type": "markdown",
   "id": "characteristic-concern",
   "metadata": {},
   "source": [
    "### 3.6\n",
    "Write a function that checks for two numbers the following conditions: x < y"
   ]
  },
  {
   "cell_type": "code",
   "execution_count": null,
   "id": "iraqi-sleep",
   "metadata": {},
   "outputs": [],
   "source": [
    "def xLessThanY(x,y):\n",
    "    # your code here\n",
    "    return result"
   ]
  },
  {
   "cell_type": "markdown",
   "id": "expanded-resident",
   "metadata": {},
   "source": [
    "### 3.7\n",
    "Write a function that checks for two numbers the following conditions: x = y"
   ]
  },
  {
   "cell_type": "code",
   "execution_count": null,
   "id": "seven-headline",
   "metadata": {},
   "outputs": [],
   "source": [
    "def xEqualsY(x,y):\n",
    "    # your code here\n",
    "    return result"
   ]
  },
  {
   "cell_type": "markdown",
   "id": "hydraulic-bulgaria",
   "metadata": {},
   "source": [
    "### 3.8\n",
    "Write a function that checks whether a number is prime or not."
   ]
  },
  {
   "cell_type": "code",
   "execution_count": null,
   "id": "classified-pakistan",
   "metadata": {},
   "outputs": [],
   "source": [
    "def isPrime(x):\n",
    "    # your code here\n",
    "    return result"
   ]
  }
 ],
 "metadata": {
  "kernelspec": {
   "display_name": "Python 3",
   "language": "python",
   "name": "python3"
  },
  "language_info": {
   "codemirror_mode": {
    "name": "ipython",
    "version": 3
   },
   "file_extension": ".py",
   "mimetype": "text/x-python",
   "name": "python",
   "nbconvert_exporter": "python",
   "pygments_lexer": "ipython3",
   "version": "3.8.8"
  }
 },
 "nbformat": 4,
 "nbformat_minor": 5
}
