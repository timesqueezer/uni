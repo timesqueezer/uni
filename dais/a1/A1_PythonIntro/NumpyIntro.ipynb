{
 "cells": [
  {
   "cell_type": "markdown",
   "id": "macro-graham",
   "metadata": {},
   "source": [
    "# 4 Numpy\n",
    "\n",
    "One of the most important libraries for data science with Python is [NumPy](https://numpy.org/).\n",
    "If you have followed along the Jupyter Intro notebook, you should already have it installed. If, for some reason, you did not, you need to install it with pip into your virtual environment. You can do that by uncommenting the below command and executing the cell."
   ]
  },
  {
   "cell_type": "code",
   "execution_count": null,
   "id": "living-nylon",
   "metadata": {
    "scrolled": true
   },
   "outputs": [],
   "source": [
    "#!pip install -U pip\n",
    "#!pip install numpy==1.20.2"
   ]
  },
  {
   "cell_type": "code",
   "execution_count": null,
   "id": "alone-variance",
   "metadata": {},
   "outputs": [],
   "source": [
    "import numpy as np"
   ]
  },
  {
   "cell_type": "markdown",
   "id": "theoretical-thermal",
   "metadata": {},
   "source": [
    "## Creating Vectors and Matrices with NumPy"
   ]
  },
  {
   "cell_type": "markdown",
   "id": "agreed-johnson",
   "metadata": {},
   "source": [
    "NumPy is a great library that enables Python users to easily work with vectors and matrices which are very important in all kinds of data science applications. It also has great [documentation](https://numpy.org/doc/) that should help you out in case you are stuck with a task."
   ]
  },
  {
   "cell_type": "markdown",
   "id": "handed-middle",
   "metadata": {},
   "source": [
    "Let us create a simple column vector with three elements, where each element has the value 7."
   ]
  },
  {
   "cell_type": "code",
   "execution_count": null,
   "id": "environmental-invalid",
   "metadata": {
    "scrolled": true
   },
   "outputs": [],
   "source": [
    "sevens_vector = np.ones(3) * 7\n",
    "sevens_vector"
   ]
  },
  {
   "cell_type": "code",
   "execution_count": null,
   "id": "0f493b74",
   "metadata": {},
   "outputs": [],
   "source": [
    "sevens_vector.shape"
   ]
  },
  {
   "cell_type": "markdown",
   "id": "incoming-upset",
   "metadata": {},
   "source": [
    "If we supply the function with only one value, it will create vectors. But np.ones is very flexible and can also create matrices. However, now we have to give the shape of matrix inside a tuple."
   ]
  },
  {
   "cell_type": "code",
   "execution_count": null,
   "id": "brutal-wyoming",
   "metadata": {
    "scrolled": false
   },
   "outputs": [],
   "source": [
    "sevens_matrix = np.ones((4,3)) * 7\n",
    "sevens_matrix"
   ]
  },
  {
   "cell_type": "code",
   "execution_count": null,
   "id": "5b0b7447",
   "metadata": {},
   "outputs": [],
   "source": [
    "sevens_matrix.shape"
   ]
  },
  {
   "cell_type": "markdown",
   "id": "continuing-pantyhose",
   "metadata": {},
   "source": [
    "Of course you can also turn Python lists into NumPy arrays."
   ]
  },
  {
   "cell_type": "code",
   "execution_count": null,
   "id": "arabic-reader",
   "metadata": {},
   "outputs": [],
   "source": [
    "l = [[1,2,3], [4,5,6]]\n",
    "x = np.array(l)\n",
    "x"
   ]
  },
  {
   "cell_type": "markdown",
   "id": "civic-camping",
   "metadata": {},
   "source": [
    "Accessing rows and columns works as you would expect from native Python lists."
   ]
  },
  {
   "cell_type": "code",
   "execution_count": null,
   "id": "designed-boston",
   "metadata": {},
   "outputs": [],
   "source": [
    "x[1,1] = 1337\n",
    "x"
   ]
  },
  {
   "cell_type": "markdown",
   "id": "shaped-kernel",
   "metadata": {},
   "source": [
    "## Tasks"
   ]
  },
  {
   "cell_type": "markdown",
   "id": "genuine-experience",
   "metadata": {},
   "source": [
    "Now, you are given a sample matrix and we want to investigate it a little. Make sure that you do not change the supplied variable names in the subtasks. Solve the tasks so that the supplied variables contain the solution."
   ]
  },
  {
   "cell_type": "markdown",
   "id": "concrete-lottery",
   "metadata": {},
   "source": [
    "### Matrix Manipulation"
   ]
  },
  {
   "cell_type": "code",
   "execution_count": null,
   "id": "relevant-brunei",
   "metadata": {},
   "outputs": [],
   "source": [
    "# sample matrix a\n",
    "a = np.array([[2, 3.2, 5.5, -6.4, -2.2, 2.4], [1, 22, 4, 0.1, 5.3, -9],\n",
    "                [3, 1, 2.1, 21, 1.1, -2]])"
   ]
  },
  {
   "cell_type": "code",
   "execution_count": null,
   "id": "blocked-video",
   "metadata": {},
   "outputs": [],
   "source": [
    "# sample matrix b\n",
    "b = np.array([range(6), range(10, 16)])"
   ]
  },
  {
   "cell_type": "markdown",
   "id": "constant-draft",
   "metadata": {},
   "source": [
    "#### 4.1\n",
    "The variable sol_4_1 should contain the second row of the sample matrix a."
   ]
  },
  {
   "cell_type": "code",
   "execution_count": null,
   "id": "according-procedure",
   "metadata": {},
   "outputs": [],
   "source": [
    "sol_4_1 = # your solution here"
   ]
  },
  {
   "cell_type": "markdown",
   "id": "dental-desire",
   "metadata": {},
   "source": [
    "#### 4.2\n",
    "The variable sol_4_2 should contain all rows except the first row of the sample matrix a."
   ]
  },
  {
   "cell_type": "code",
   "execution_count": null,
   "id": "prospective-biology",
   "metadata": {},
   "outputs": [],
   "source": [
    "sol_4_2 = # your solution here"
   ]
  },
  {
   "cell_type": "markdown",
   "id": "fundamental-situation",
   "metadata": {},
   "source": [
    "#### 4.3\n",
    "The variable sol_4_3 should contain only the fifth element of every row of the sample matrix a."
   ]
  },
  {
   "cell_type": "code",
   "execution_count": null,
   "id": "progressive-business",
   "metadata": {},
   "outputs": [],
   "source": [
    "sol_4_3 = # your solution here"
   ]
  },
  {
   "cell_type": "markdown",
   "id": "cosmetic-flooring",
   "metadata": {},
   "source": [
    "#### 4.4\n",
    "The variable sol_4_4 should contain the third element of every row except the first row of the sample matrix a."
   ]
  },
  {
   "cell_type": "code",
   "execution_count": null,
   "id": "front-improvement",
   "metadata": {},
   "outputs": [],
   "source": [
    "sol_4_4 = # your solution here"
   ]
  },
  {
   "cell_type": "markdown",
   "id": "metropolitan-packaging",
   "metadata": {},
   "source": [
    "### Matrix built-in functions\n",
    "Check out the docs or search the web. There are plenty of resources that will help you with the following tasks."
   ]
  },
  {
   "cell_type": "markdown",
   "id": "loaded-building",
   "metadata": {},
   "source": [
    "#### 4.5\n",
    "The variable sol_4_5 should contain the absolut values of sample matrix a."
   ]
  },
  {
   "cell_type": "code",
   "execution_count": null,
   "id": "documentary-capture",
   "metadata": {},
   "outputs": [],
   "source": [
    "sol_4_5 = # your solution here"
   ]
  },
  {
   "cell_type": "markdown",
   "id": "micro-trade",
   "metadata": {},
   "source": [
    "#### 4.6\n",
    "The variable sol_4_6 should contain the shape of sample matrix b."
   ]
  },
  {
   "cell_type": "code",
   "execution_count": null,
   "id": "sweet-actor",
   "metadata": {},
   "outputs": [],
   "source": [
    "sol_4_6 = # your solution here"
   ]
  },
  {
   "cell_type": "markdown",
   "id": "intelligent-philip",
   "metadata": {},
   "source": [
    "#### 4.7\n",
    "The variable sol_4_7 should contain the highest value of sample matrix b."
   ]
  },
  {
   "cell_type": "code",
   "execution_count": null,
   "id": "controlled-amount",
   "metadata": {},
   "outputs": [],
   "source": [
    "sol_4_7 = # your solution here"
   ]
  },
  {
   "cell_type": "markdown",
   "id": "nominated-router",
   "metadata": {},
   "source": [
    "#### 4.8\n",
    "The variable sol_4_8 should contain the smallest value of sample matrix b."
   ]
  },
  {
   "cell_type": "code",
   "execution_count": null,
   "id": "understanding-rugby",
   "metadata": {},
   "outputs": [],
   "source": [
    "sol_4_8 = # your solution here"
   ]
  },
  {
   "cell_type": "markdown",
   "id": "electrical-service",
   "metadata": {},
   "source": [
    "#### 4.9\n",
    "The variable sol_4_9 should contain the transpose of sample matrix b."
   ]
  },
  {
   "cell_type": "code",
   "execution_count": null,
   "id": "macro-class",
   "metadata": {},
   "outputs": [],
   "source": [
    "sol_4_9 = # your solution here"
   ]
  }
 ],
 "metadata": {
  "kernelspec": {
   "display_name": "Python 3",
   "language": "python",
   "name": "python3"
  },
  "language_info": {
   "codemirror_mode": {
    "name": "ipython",
    "version": 3
   },
   "file_extension": ".py",
   "mimetype": "text/x-python",
   "name": "python",
   "nbconvert_exporter": "python",
   "pygments_lexer": "ipython3",
   "version": "3.8.8"
  }
 },
 "nbformat": 4,
 "nbformat_minor": 5
}
