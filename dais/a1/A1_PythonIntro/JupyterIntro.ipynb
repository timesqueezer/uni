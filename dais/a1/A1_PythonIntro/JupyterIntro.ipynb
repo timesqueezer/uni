{
 "cells": [
  {
   "cell_type": "markdown",
   "id": "designing-beaver",
   "metadata": {},
   "source": [
    "# 2 Jupyter Notebooks"
   ]
  },
  {
   "cell_type": "markdown",
   "id": "purple-bubble",
   "metadata": {},
   "source": [
    "This task is intended to give you an idea of Jupyter notebooks, its possibilities and advantages."
   ]
  },
  {
   "cell_type": "markdown",
   "id": "ideal-racing",
   "metadata": {},
   "source": [
    "Although  [Jupyter](https://jupyter.org/ \"Jupyter Homepage\") (**Ju**lia-**Pyt**hon-**R**) was intended for [Julia](https://julialang.org/), [Python](https://www.python.org/) and [R](https://www.r-project.org/), by now there [lots of other languages](https://github.com/jupyter/jupyter/wiki/Jupyter-kernels) supported by the project."
   ]
  },
  {
   "cell_type": "markdown",
   "id": "opposite-hammer",
   "metadata": {},
   "source": [
    "## Navigation and Editing"
   ]
  },
  {
   "cell_type": "markdown",
   "id": "severe-verification",
   "metadata": {},
   "source": [
    "Jupyter Notebooks are modal, i.e. your keys will have different functions, depending in which \"mode\" you are. For instance, in \"Insert\" mode, you can freely type into the current cell as you would be in any editor."
   ]
  },
  {
   "cell_type": "markdown",
   "id": "coral-oracle",
   "metadata": {},
   "source": [
    "In \"Normal\" mode, most keys are a shortcut to certain functions, e.g.\n",
    "* top/down keys navigate up and down\n",
    "* Add a cell below with ```b```\n",
    "* Add a cell above with ```a```\n",
    "* Delete current cell with ```dd```\n",
    "* Enter Insert mode (green border) for the current cell with ```Enter```\n",
    "* Leave Insert mode and enter Normal mode with ```Esc```\n",
    "* Execute a cell (leave Insert Mode) with ```Ctrl+Enter``` \n",
    "* Execute a cell (and select cell below) with ```Shift+Enter```\n",
    "\n",
    "You can find more commands here: ```Help -> Keyboard Shortcuts```"
   ]
  },
  {
   "cell_type": "markdown",
   "id": "surprising-shanghai",
   "metadata": {},
   "source": [
    "Let's run the first cell below (use the Run Button in the menu on top or one of the shortcuts)"
   ]
  },
  {
   "cell_type": "code",
   "execution_count": null,
   "id": "public-wedding",
   "metadata": {},
   "outputs": [],
   "source": [
    "print(\"Hello World!\")"
   ]
  },
  {
   "cell_type": "markdown",
   "id": "congressional-thought",
   "metadata": {},
   "source": [
    "As you can see, the output of the cell is directly printed below. You might also note the \"[1]\" left to the cell. This number specifies the order in which the cells were executed.\n",
    "\n",
    "The computation of a cell is stored and be re-used in cells that are executed later. Let's see an example."
   ]
  },
  {
   "cell_type": "code",
   "execution_count": null,
   "id": "lesser-craft",
   "metadata": {},
   "outputs": [],
   "source": [
    "a = 8"
   ]
  },
  {
   "cell_type": "code",
   "execution_count": null,
   "id": "senior-dancing",
   "metadata": {},
   "outputs": [],
   "source": [
    "print(\"The variable a holds the value\", a)"
   ]
  },
  {
   "cell_type": "markdown",
   "id": "still-ceremony",
   "metadata": {},
   "source": [
    "The stored value carried over! Usually, cells are executed top to bottom, just like in a script. However, that is not a must. We could change the value of a and execute the above cell again. Let's try that now for once just for fun."
   ]
  },
  {
   "cell_type": "code",
   "execution_count": null,
   "id": "nasty-worth",
   "metadata": {},
   "outputs": [],
   "source": [
    "a = 3"
   ]
  },
  {
   "cell_type": "markdown",
   "id": "bored-abuse",
   "metadata": {},
   "source": [
    "Now execute the third code cell again and see if it has changed.\n",
    "\n",
    "Being able to directly see the output of smaller snippets of code is of tremendous worth in data science. Often, we have to inspect data in an exploratory manner to decide on algorithms and further procedures. Jupyter notebooks are a very useful tool for this purpose."
   ]
  },
  {
   "cell_type": "markdown",
   "id": "opened-joseph",
   "metadata": {},
   "source": [
    "## Command line in Jupyter"
   ]
  },
  {
   "cell_type": "markdown",
   "id": "traditional-horizontal",
   "metadata": {},
   "source": [
    "You can also run bash commands in notebook cells by prepending the line with an exclamation mark (\"!\"). This can be useful in various situations, like setting environment variables or even checking the current workload."
   ]
  },
  {
   "cell_type": "markdown",
   "id": "vertical-prevention",
   "metadata": {},
   "source": [
    "When you do not remember in which directory you are, you can quickly check from within the Jupyter notebook."
   ]
  },
  {
   "cell_type": "code",
   "execution_count": null,
   "id": "governmental-spending",
   "metadata": {
    "scrolled": true
   },
   "outputs": [],
   "source": [
    "!pwd"
   ]
  },
  {
   "cell_type": "markdown",
   "id": "dated-degree",
   "metadata": {},
   "source": [
    "Or you can create new directories on the fly for fast experimenting and prototyping."
   ]
  },
  {
   "cell_type": "code",
   "execution_count": null,
   "id": "piano-meter",
   "metadata": {
    "scrolled": true
   },
   "outputs": [],
   "source": [
    "!mkdir testdir\n",
    "!ls"
   ]
  },
  {
   "cell_type": "code",
   "execution_count": null,
   "id": "established-computer",
   "metadata": {},
   "outputs": [],
   "source": [
    "# In case you want to delete the directory, uncomment the line below and run the cell\n",
    "# !rm -rf testdir"
   ]
  },
  {
   "cell_type": "markdown",
   "id": "crazy-democracy",
   "metadata": {},
   "source": [
    "It also comes in handy, when you want to quickly install a certain package in your virtual environment, without closing or restarting Jupyter. Let's install a package, which we will use later."
   ]
  },
  {
   "cell_type": "code",
   "execution_count": null,
   "id": "distant-vienna",
   "metadata": {
    "scrolled": true
   },
   "outputs": [],
   "source": [
    "!pip install matplotlib numpy==1.20.2"
   ]
  },
  {
   "cell_type": "markdown",
   "id": "numeric-blogger",
   "metadata": {},
   "source": [
    "## Plotting"
   ]
  },
  {
   "cell_type": "markdown",
   "id": "latin-compound",
   "metadata": {},
   "source": [
    "We can also plot directly in Jupyter notebooks, which makes data exploration very convenient."
   ]
  },
  {
   "cell_type": "code",
   "execution_count": null,
   "id": "productive-communication",
   "metadata": {},
   "outputs": [],
   "source": [
    "from matplotlib import pyplot as plt\n",
    "import numpy as np\n",
    "\n",
    "noise = np.random.randn(256, 256)\n",
    "plt.imshow(noise)\n",
    "plt.show()"
   ]
  },
  {
   "cell_type": "markdown",
   "id": "intensive-grocery",
   "metadata": {},
   "source": [
    "## Fun with Python\n",
    "The last part of this notebook will contain some examples on the usage of Python, like lists, dictionaries, in-built functions and so on. If you are new to Python. Execute the cells and try to understand how the output came to be."
   ]
  },
  {
   "cell_type": "code",
   "execution_count": null,
   "id": "golden-penetration",
   "metadata": {},
   "outputs": [],
   "source": [
    "[\"hello\", \"world\"]"
   ]
  },
  {
   "cell_type": "code",
   "execution_count": null,
   "id": "stable-judge",
   "metadata": {},
   "outputs": [],
   "source": [
    "[0, 1.5, \"hello\"]"
   ]
  },
  {
   "cell_type": "code",
   "execution_count": null,
   "id": "organizational-lecture",
   "metadata": {},
   "outputs": [],
   "source": [
    "a = [1, 2, 3, 4]\n",
    "len(a)"
   ]
  },
  {
   "cell_type": "code",
   "execution_count": null,
   "id": "written-soviet",
   "metadata": {},
   "outputs": [],
   "source": [
    "b = [5, 6, 7, 8]\n",
    "b*2"
   ]
  },
  {
   "cell_type": "code",
   "execution_count": null,
   "id": "warming-imperial",
   "metadata": {},
   "outputs": [],
   "source": [
    "for i in zip(a,b):\n",
    "    print(i)"
   ]
  },
  {
   "cell_type": "code",
   "execution_count": null,
   "id": "governing-project",
   "metadata": {},
   "outputs": [],
   "source": [
    "print(list(zip([\"a\", \"b\", \"c\"], [1, 2, 3])))"
   ]
  },
  {
   "cell_type": "code",
   "execution_count": null,
   "id": "further-peripheral",
   "metadata": {},
   "outputs": [],
   "source": [
    "c=a+b\n",
    "print(c)"
   ]
  },
  {
   "cell_type": "code",
   "execution_count": null,
   "id": "daily-tuning",
   "metadata": {},
   "outputs": [],
   "source": [
    "c[1]"
   ]
  },
  {
   "cell_type": "code",
   "execution_count": null,
   "id": "conceptual-postage",
   "metadata": {},
   "outputs": [],
   "source": [
    "c[0:2]"
   ]
  },
  {
   "cell_type": "code",
   "execution_count": null,
   "id": "sufficient-victor",
   "metadata": {},
   "outputs": [],
   "source": [
    "c[:2]"
   ]
  },
  {
   "cell_type": "code",
   "execution_count": null,
   "id": "transsexual-ocean",
   "metadata": {},
   "outputs": [],
   "source": [
    "c[-2:]"
   ]
  },
  {
   "cell_type": "code",
   "execution_count": null,
   "id": "auburn-update",
   "metadata": {},
   "outputs": [],
   "source": [
    "c[1]=1\n",
    "c.append(9)\n",
    "c"
   ]
  },
  {
   "cell_type": "code",
   "execution_count": null,
   "id": "italian-consensus",
   "metadata": {},
   "outputs": [],
   "source": [
    "d=[c, 9, 10]\n",
    "d"
   ]
  },
  {
   "cell_type": "code",
   "execution_count": null,
   "id": "trying-paradise",
   "metadata": {},
   "outputs": [],
   "source": [
    "for i in range(10):\n",
    "    print(i)"
   ]
  },
  {
   "cell_type": "code",
   "execution_count": null,
   "id": "occupied-mobile",
   "metadata": {},
   "outputs": [],
   "source": [
    "for i in range(2, 12, 3):\n",
    "    print(i)"
   ]
  },
  {
   "cell_type": "code",
   "execution_count": null,
   "id": "preceding-world",
   "metadata": {},
   "outputs": [],
   "source": [
    "x=range(10)\n",
    "for i in x[::-1]:\n",
    "    print(i)"
   ]
  },
  {
   "cell_type": "code",
   "execution_count": null,
   "id": "indonesian-memorial",
   "metadata": {},
   "outputs": [],
   "source": [
    "l = [2, 10, 42, 3, 37]\n",
    "l.sort() # changes l\n",
    "l"
   ]
  },
  {
   "cell_type": "code",
   "execution_count": null,
   "id": "suspected-capacity",
   "metadata": {},
   "outputs": [],
   "source": [
    "l = [2, 10, 42, 3, 37]\n",
    "print(sorted(l)) # doesn't change l\n",
    "l"
   ]
  },
  {
   "cell_type": "code",
   "execution_count": null,
   "id": "destroyed-segment",
   "metadata": {},
   "outputs": [],
   "source": [
    "a = {'x': 1, 'y': 2, 'z': 3}"
   ]
  },
  {
   "cell_type": "code",
   "execution_count": null,
   "id": "employed-angola",
   "metadata": {},
   "outputs": [],
   "source": [
    "a['x']"
   ]
  },
  {
   "cell_type": "code",
   "execution_count": null,
   "id": "fourth-internet",
   "metadata": {},
   "outputs": [],
   "source": [
    "a.keys()"
   ]
  },
  {
   "cell_type": "code",
   "execution_count": null,
   "id": "floating-reducing",
   "metadata": {},
   "outputs": [],
   "source": [
    "a.values()"
   ]
  },
  {
   "cell_type": "code",
   "execution_count": null,
   "id": "liable-bangkok",
   "metadata": {},
   "outputs": [],
   "source": [
    "a.items()"
   ]
  }
 ],
 "metadata": {
  "kernelspec": {
   "display_name": "Python 3",
   "language": "python",
   "name": "python3"
  },
  "language_info": {
   "codemirror_mode": {
    "name": "ipython",
    "version": 3
   },
   "file_extension": ".py",
   "mimetype": "text/x-python",
   "name": "python",
   "nbconvert_exporter": "python",
   "pygments_lexer": "ipython3",
   "version": "3.8.8"
  }
 },
 "nbformat": 4,
 "nbformat_minor": 5
}
