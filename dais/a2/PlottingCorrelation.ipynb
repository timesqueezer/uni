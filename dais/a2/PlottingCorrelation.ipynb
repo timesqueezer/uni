{
 "cells": [
  {
   "cell_type": "markdown",
   "id": "36344343",
   "metadata": {},
   "source": [
    "# 1 Plotting and Data Visualisation"
   ]
  },
  {
   "cell_type": "markdown",
   "id": "a1844dd0",
   "metadata": {},
   "source": [
    "In this notebook we want to get familiar with plotting and the Python library ```matplotlib```. Plotting is an essential tool for data exploration that can help you to get an intuition about certain characteristics and features of data.\n",
    "\n",
    "\n",
    "[Matplotlib](https://matplotlib.org/) is probably the most widely used Python library and will be the one we are using in this course. However, there are also other alternatives that might be interesting for you, for instance [Seaborn](https://seaborn.pydata.org/) or [Plotly](https://plotly.com/) (for this course, we expect you to stick to matplotlib)."
   ]
  },
  {
   "cell_type": "markdown",
   "id": "c3b9f785",
   "metadata": {},
   "source": [
    "Let's install and import matplotlib:"
   ]
  },
  {
   "cell_type": "code",
   "execution_count": 1,
   "id": "87ad92fe",
   "metadata": {},
   "outputs": [
    {
     "name": "stdout",
     "output_type": "stream",
     "text": [
      "Collecting matplotlib\n",
      "  Downloading matplotlib-3.4.1-cp39-cp39-manylinux1_x86_64.whl (10.3 MB)\n",
      "\u001b[K     |████████████████████████████████| 10.3 MB 1.9 MB/s eta 0:00:01\n",
      "\u001b[?25hCollecting cycler>=0.10\n",
      "  Downloading cycler-0.10.0-py2.py3-none-any.whl (6.5 kB)\n",
      "Collecting numpy>=1.16\n",
      "  Downloading numpy-1.20.2-cp39-cp39-manylinux2010_x86_64.whl (15.4 MB)\n",
      "\u001b[K     |████████████████████████████████| 15.4 MB 9.1 MB/s eta 0:00:01\n",
      "\u001b[?25hCollecting kiwisolver>=1.0.1\n",
      "  Downloading kiwisolver-1.3.1-cp39-cp39-manylinux1_x86_64.whl (1.2 MB)\n",
      "\u001b[K     |████████████████████████████████| 1.2 MB 8.1 MB/s eta 0:00:01\n",
      "\u001b[?25hRequirement already satisfied: python-dateutil>=2.7 in /home/matz/uni/dais/env/lib/python3.9/site-packages (from matplotlib) (2.8.1)\n",
      "Requirement already satisfied: pyparsing>=2.2.1 in /home/matz/uni/dais/env/lib/python3.9/site-packages (from matplotlib) (2.4.7)\n",
      "Collecting pillow>=6.2.0\n",
      "  Using cached Pillow-8.2.0-cp39-cp39-manylinux1_x86_64.whl (3.0 MB)\n",
      "Requirement already satisfied: six in /home/matz/uni/dais/env/lib/python3.9/site-packages (from cycler>=0.10->matplotlib) (1.15.0)\n",
      "Installing collected packages: pillow, numpy, kiwisolver, cycler, matplotlib\n",
      "Successfully installed cycler-0.10.0 kiwisolver-1.3.1 matplotlib-3.4.1 numpy-1.20.2 pillow-8.2.0\n",
      "\u001b[33mWARNING: You are using pip version 21.0.1; however, version 21.1 is available.\n",
      "You should consider upgrading via the '/home/matz/uni/dais/env/bin/python -m pip install --upgrade pip' command.\u001b[0m\n"
     ]
    }
   ],
   "source": [
    "!pip install matplotlib"
   ]
  },
  {
   "cell_type": "code",
   "execution_count": 13,
   "id": "660c59bd",
   "metadata": {},
   "outputs": [],
   "source": [
    "import matplotlib.pyplot as plt\n",
    "%matplotlib inline\n",
    "import numpy as np #numpy will always have our back"
   ]
  },
  {
   "cell_type": "markdown",
   "id": "68efa9be",
   "metadata": {},
   "source": [
    "## 1.1 Obtaining a dataset"
   ]
  },
  {
   "cell_type": "markdown",
   "id": "3720eae5",
   "metadata": {},
   "source": [
    "For illustration purposes, we will use datasets that are canon in machine learning and data science. Those datasets are already preprocessed and easily obtainable through the [scikit-learn](https://scikit-learn.org/stable/) library.\n",
    "\n",
    "Now, let's install (mind the version number 0.24.1!) and import scikit-learn and load the dataset."
   ]
  },
  {
   "cell_type": "code",
   "execution_count": 3,
   "id": "823d7a4e",
   "metadata": {},
   "outputs": [
    {
     "name": "stdout",
     "output_type": "stream",
     "text": [
      "Collecting scikit-learn==0.24.1\n",
      "  Downloading scikit_learn-0.24.1-cp39-cp39-manylinux2010_x86_64.whl (23.8 MB)\n",
      "\u001b[K     |████████████████████████████████| 23.8 MB 8.7 MB/s eta 0:00:01\n",
      "\u001b[?25hCollecting scipy>=0.19.1\n",
      "  Downloading scipy-1.6.3-cp39-cp39-manylinux1_x86_64.whl (27.3 MB)\n",
      "\u001b[K     |████████████████████████████████| 27.3 MB 9.0 MB/s eta 0:00:01\n",
      "\u001b[?25hCollecting joblib>=0.11\n",
      "  Downloading joblib-1.0.1-py3-none-any.whl (303 kB)\n",
      "\u001b[K     |████████████████████████████████| 303 kB 8.1 MB/s eta 0:00:01\n",
      "\u001b[?25hRequirement already satisfied: numpy>=1.13.3 in /home/matz/uni/dais/env/lib/python3.9/site-packages (from scikit-learn==0.24.1) (1.20.2)\n",
      "Collecting threadpoolctl>=2.0.0\n",
      "  Downloading threadpoolctl-2.1.0-py3-none-any.whl (12 kB)\n",
      "Installing collected packages: threadpoolctl, scipy, joblib, scikit-learn\n",
      "Successfully installed joblib-1.0.1 scikit-learn-0.24.1 scipy-1.6.3 threadpoolctl-2.1.0\n",
      "\u001b[33mWARNING: You are using pip version 21.0.1; however, version 21.1 is available.\n",
      "You should consider upgrading via the '/home/matz/uni/dais/env/bin/python -m pip install --upgrade pip' command.\u001b[0m\n"
     ]
    }
   ],
   "source": [
    "!pip install scikit-learn==0.24.1"
   ]
  },
  {
   "cell_type": "code",
   "execution_count": 3,
   "id": "6ce5feaa",
   "metadata": {},
   "outputs": [],
   "source": [
    "from sklearn import datasets\n",
    "boston = datasets.load_boston()"
   ]
  },
  {
   "cell_type": "markdown",
   "id": "a103b7e8",
   "metadata": {},
   "source": [
    "Now we have the Boston House Prices dataset. Let's try to explore it with ```matplotlib```."
   ]
  },
  {
   "cell_type": "code",
   "execution_count": 22,
   "id": "8229f530",
   "metadata": {},
   "outputs": [
    {
     "name": "stdout",
     "output_type": "stream",
     "text": [
      "(506, 13)\n"
     ]
    }
   ],
   "source": [
    "print(boston[\"data\"].shape)"
   ]
  },
  {
   "cell_type": "markdown",
   "id": "04352269",
   "metadata": {},
   "source": [
    "As you can see, we have 506 samples with 13 features. (Actually, there is a 14th feature, the target, which denotes the price of a house.) Now, have a look at what features we are dealing with:"
   ]
  },
  {
   "cell_type": "code",
   "execution_count": 76,
   "id": "69a0f0c5",
   "metadata": {
    "scrolled": true
   },
   "outputs": [
    {
     "name": "stdout",
     "output_type": "stream",
     "text": [
      "['CRIM' 'ZN' 'INDUS' 'CHAS' 'NOX' 'RM' 'AGE' 'DIS' 'RAD' 'TAX' 'PTRATIO'\n",
      " 'B' 'LSTAT']\n",
      "(506,)\n"
     ]
    }
   ],
   "source": [
    "print(boston[\"feature_names\"])"
   ]
  },
  {
   "cell_type": "markdown",
   "id": "160866c9",
   "metadata": {},
   "source": [
    "The given abbreviations may seem rightfully cryptic to you, more information can be found in the dataset description:"
   ]
  },
  {
   "cell_type": "code",
   "execution_count": 7,
   "id": "42459cf9",
   "metadata": {},
   "outputs": [
    {
     "name": "stdout",
     "output_type": "stream",
     "text": [
      ".. _boston_dataset:\n",
      "\n",
      "Boston house prices dataset\n",
      "---------------------------\n",
      "\n",
      "**Data Set Characteristics:**  \n",
      "\n",
      "    :Number of Instances: 506 \n",
      "\n",
      "    :Number of Attributes: 13 numeric/categorical predictive. Median Value (attribute 14) is usually the target.\n",
      "\n",
      "    :Attribute Information (in order):\n",
      "        - CRIM     per capita crime rate by town\n",
      "        - ZN       proportion of residential land zoned for lots over 25,000 sq.ft.\n",
      "        - INDUS    proportion of non-retail business acres per town\n",
      "        - CHAS     Charles River dummy variable (= 1 if tract bounds river; 0 otherwise)\n",
      "        - NOX      nitric oxides concentration (parts per 10 million)\n",
      "        - RM       average number of rooms per dwelling\n",
      "        - AGE      proportion of owner-occupied units built prior to 1940\n",
      "        - DIS      weighted distances to five Boston employment centres\n",
      "        - RAD      index of accessibility to radial highways\n",
      "        - TAX      full-value property-tax rate per $10,000\n",
      "        - PTRATIO  pupil-teacher ratio by town\n",
      "        - B        1000(Bk - 0.63)^2 where Bk is the proportion of blacks by town\n",
      "        - LSTAT    % lower status of the population\n",
      "        - MEDV     Median value of owner-occupied homes in $1000's\n",
      "\n",
      "    :Missing Attribute Values: None\n",
      "\n",
      "    :Creator: Harrison, D. and Rubinfeld, D.L.\n",
      "\n",
      "This is a copy of UCI ML housing dataset.\n",
      "https://archive.ics.uci.edu/ml/machine-learning-databases/housing/\n",
      "\n",
      "\n",
      "This dataset was taken from the StatLib library which is maintained at Carnegie Mellon University.\n",
      "\n",
      "The Boston house-price data of Harrison, D. and Rubinfeld, D.L. 'Hedonic\n",
      "prices and the demand for clean air', J. Environ. Economics & Management,\n",
      "vol.5, 81-102, 1978.   Used in Belsley, Kuh & Welsch, 'Regression diagnostics\n",
      "...', Wiley, 1980.   N.B. Various transformations are used in the table on\n",
      "pages 244-261 of the latter.\n",
      "\n",
      "The Boston house-price data has been used in many machine learning papers that address regression\n",
      "problems.   \n",
      "     \n",
      ".. topic:: References\n",
      "\n",
      "   - Belsley, Kuh & Welsch, 'Regression diagnostics: Identifying Influential Data and Sources of Collinearity', Wiley, 1980. 244-261.\n",
      "   - Quinlan,R. (1993). Combining Instance-Based and Model-Based Learning. In Proceedings on the Tenth International Conference of Machine Learning, 236-243, University of Massachusetts, Amherst. Morgan Kaufmann.\n",
      "\n"
     ]
    }
   ],
   "source": [
    "print(boston[\"DESCR\"])"
   ]
  },
  {
   "cell_type": "markdown",
   "id": "0c28de2b",
   "metadata": {},
   "source": [
    "## 1.2 Visualise features"
   ]
  },
  {
   "cell_type": "markdown",
   "id": "3d10f848",
   "metadata": {},
   "source": [
    "Now, we want to get a feeling for a feature, how it is distributed and what we can learn from it. Hence, we will pick out one of the features and plot them in difference ways. \n",
    "\n",
    "As an example feature, we will take \"RM\", the average number of rooms.\n",
    "For the all subtasks of 1.2, the term \"data\" refers to the feature \"RM\" of the Boston Housing dataset."
   ]
  },
  {
   "cell_type": "markdown",
   "id": "b16ee34b",
   "metadata": {},
   "source": [
    "### Task 1.2.1: Get the feature\n",
    "Isolate the feature \"RM\" from the data and save the vector into the provided variable _rm_."
   ]
  },
  {
   "cell_type": "code",
   "execution_count": 32,
   "id": "72eb1101",
   "metadata": {},
   "outputs": [],
   "source": [
    "rm_index = np.where(boston['feature_names'] == 'RM')[0][0]\n",
    "rm = boston['data'][:,rm_index]"
   ]
  },
  {
   "cell_type": "markdown",
   "id": "a48d1f77",
   "metadata": {},
   "source": [
    "### Task 1.2.2: Describe the data\n",
    "Use the skills you learnt in the lecture and the last assignment (and numpy), to extract meaningful properties from the data:\n",
    "- attribute type (scale) of the data\n",
    "- mean\n",
    "- median\n",
    "- maximum value\n",
    "- minimum value\n",
    "- variance"
   ]
  },
  {
   "cell_type": "code",
   "execution_count": 30,
   "id": "9da68986",
   "metadata": {},
   "outputs": [
    {
     "name": "stdout",
     "output_type": "stream",
     "text": [
      "rm_mean: 6.284634387351779\n",
      "rm_median: 6.2085\n",
      "rm_max: 8.78\n",
      "rm_min: 3.561\n",
      "rm_var 0.49269521612976297\n"
     ]
    }
   ],
   "source": [
    "# attribute type: your answer here\n",
    "rm_mean = np.mean(rm)\n",
    "print('rm_mean:', rm_mean)\n",
    "rm_median = np.median(rm)\n",
    "print('rm_median:', rm_median)\n",
    "rm_max =  np.max(rm)\n",
    "print('rm_max:', rm_max)\n",
    "rm_min =  np.min(rm)\n",
    "print('rm_min:', rm_min)\n",
    "rm_var = np.var(rm)\n",
    "print('rm_var', rm_var)"
   ]
  },
  {
   "cell_type": "markdown",
   "id": "967bfaca",
   "metadata": {},
   "source": [
    "### Task 1.2.3: Show the distribution\n",
    "Now, we are interested in the distribution of the number of rooms over the data, i.e. we want to visualise how many houses have how many rooms. \n",
    "\n",
    "Have a look at the sample plots in on the [matplotlib website](https://matplotlib.org/stable/gallery/statistics/histogram_features.html) and choose an appropriate type of plot to display that information.\n",
    "\n",
    "IMPORTANT: Do not forget to label your axes correctly!"
   ]
  },
  {
   "cell_type": "code",
   "execution_count": 41,
   "id": "cf81f019",
   "metadata": {
    "scrolled": true
   },
   "outputs": [
    {
     "data": {
      "image/png": "[encoded data removed]",
      "text/plain": [
       "<Figure size 432x288 with 1 Axes>"
      ]
     },
     "metadata": {
      "needs_background": "light"
     },
     "output_type": "display_data"
    }
   ],
   "source": [
    "x_data = np.arange(len(rm))\n",
    "y_data = rm\n",
    "plot = plt.bar(x_data, y_data)\n",
    "\n",
    "\n",
    "plt.title(\"average #rooms / dwelling per house\")\n",
    "plt.xlabel(\"house\")\n",
    "plt.ylabel(\"average number of rooms per dwelling\")\n",
    "plt.show()"
   ]
  },
  {
   "cell_type": "markdown",
   "id": "63387014",
   "metadata": {},
   "source": [
    "### Bonus Task 1.2.4: What type of function could describe the data approximately?"
   ]
  },
  {
   "cell_type": "code",
   "execution_count": null,
   "id": "a5f0e3d5",
   "metadata": {},
   "outputs": [],
   "source": []
  },
  {
   "cell_type": "markdown",
   "id": "2fc36444",
   "metadata": {},
   "source": [
    "### Task 1.2.5: Show the boxplot and describe it\n",
    "Now that you know how to plot with matplotlib, you are tasked to create a box and whiskers plot of the data. Have a look at the [official matplotlib documentation](https://matplotlib.org/stable/api/_as_gen/matplotlib.pyplot.boxplot.html) if you need some guidance. Additionally, give a quick description of the plot and what you learn from it about the data."
   ]
  },
  {
   "cell_type": "code",
   "execution_count": 47,
   "id": "3ad43df6",
   "metadata": {},
   "outputs": [
    {
     "data": {
      "image/png": "[encoded data removed]",
      "text/plain": [
       "<Figure size 432x288 with 1 Axes>"
      ]
     },
     "metadata": {
      "needs_background": "light"
     },
     "output_type": "display_data"
    }
   ],
   "source": [
    "x_data = np.arange(len(rm))\n",
    "y_data = rm\n",
    "boxplot = plt.boxplot(y_data)\n",
    "plt.title(\"average #rooms / dwelling per house\")\n",
    "plt.xlabel(\"Dataset\")\n",
    "plt.ylabel(\"average number of rooms per dwelling\")\n",
    "plt.show()\n",
    "\n",
    "\"\"\"\n",
    "Description:\n",
    "\n",
    "The plot shows the distribution, first and forth quartile, minimum, maximum and median of the data.\n",
    "We can learn that the average number of rooms per dwelling lies between 6 and 7 for 50% of the houses.\n",
    "The rest is mostly distributed between 5 and 8 with several outliers below and above these values.\n",
    "\"\"\""
   ]
  },
  {
   "cell_type": "markdown",
   "id": "c33559bd",
   "metadata": {},
   "source": [
    "## 1.3 Visualise 2D data\n",
    "After we have looked at the characteristics of a single feature, let's see how matplotlib can help to visualise two-dimensional data and single samples. Prominent 2D data are greyscale photos or images, where the two dimensions are the x and y positions of the pixel values."
   ]
  },
  {
   "cell_type": "markdown",
   "id": "0fcc2c79",
   "metadata": {},
   "source": [
    "### 1.3.1 Obtain an image dataset\n",
    "Fortunately, Scikit-learn also provides a dataset with pixel images as samples."
   ]
  },
  {
   "cell_type": "code",
   "execution_count": 48,
   "id": "370bad4f",
   "metadata": {
    "scrolled": true
   },
   "outputs": [
    {
     "name": "stdout",
     "output_type": "stream",
     "text": [
      "dict_keys(['data', 'target', 'frame', 'feature_names', 'target_names', 'images', 'DESCR'])\n"
     ]
    }
   ],
   "source": [
    "digits = datasets.load_digits()\n",
    "print(digits.keys())"
   ]
  },
  {
   "cell_type": "markdown",
   "id": "0f435a3f",
   "metadata": {},
   "source": [
    "Let's go the usual route and have a look at the shape of the data."
   ]
  },
  {
   "cell_type": "code",
   "execution_count": 49,
   "id": "a0d19689",
   "metadata": {},
   "outputs": [
    {
     "name": "stdout",
     "output_type": "stream",
     "text": [
      "(1797, 64)\n"
     ]
    }
   ],
   "source": [
    "print(digits[\"data\"].shape)"
   ]
  },
  {
   "cell_type": "markdown",
   "id": "eb7a25d9",
   "metadata": {},
   "source": [
    "So, we have 1797 samples with 64 features each. That means, if we isolate a feature vector for a single sample, it has 64 features. But aren't we dealing with images that are usually 2-dimensional?\n",
    "\n",
    "Perhaps the feature names can give more insight:"
   ]
  },
  {
   "cell_type": "code",
   "execution_count": 50,
   "id": "86dddd3a",
   "metadata": {},
   "outputs": [
    {
     "name": "stdout",
     "output_type": "stream",
     "text": [
      "['pixel_0_0', 'pixel_0_1', 'pixel_0_2', 'pixel_0_3', 'pixel_0_4', 'pixel_0_5', 'pixel_0_6', 'pixel_0_7', 'pixel_1_0', 'pixel_1_1', 'pixel_1_2', 'pixel_1_3', 'pixel_1_4', 'pixel_1_5', 'pixel_1_6', 'pixel_1_7', 'pixel_2_0', 'pixel_2_1', 'pixel_2_2', 'pixel_2_3', 'pixel_2_4', 'pixel_2_5', 'pixel_2_6', 'pixel_2_7', 'pixel_3_0', 'pixel_3_1', 'pixel_3_2', 'pixel_3_3', 'pixel_3_4', 'pixel_3_5', 'pixel_3_6', 'pixel_3_7', 'pixel_4_0', 'pixel_4_1', 'pixel_4_2', 'pixel_4_3', 'pixel_4_4', 'pixel_4_5', 'pixel_4_6', 'pixel_4_7', 'pixel_5_0', 'pixel_5_1', 'pixel_5_2', 'pixel_5_3', 'pixel_5_4', 'pixel_5_5', 'pixel_5_6', 'pixel_5_7', 'pixel_6_0', 'pixel_6_1', 'pixel_6_2', 'pixel_6_3', 'pixel_6_4', 'pixel_6_5', 'pixel_6_6', 'pixel_6_7', 'pixel_7_0', 'pixel_7_1', 'pixel_7_2', 'pixel_7_3', 'pixel_7_4', 'pixel_7_5', 'pixel_7_6', 'pixel_7_7']\n"
     ]
    }
   ],
   "source": [
    "print(digits[\"feature_names\"])"
   ]
  },
  {
   "cell_type": "markdown",
   "id": "6d872e0a",
   "metadata": {},
   "source": [
    "From the feature names, we can conclude that the pixel values are represented in a vector, row for row. In order to plot it as a picture, we need a 2D representation, though.\n",
    "\n",
    "Therefore our tasks are now: \n",
    "- 1.) isolate the feature vector of a single sample\n",
    "- 2.) reshape the vector into a 2D matrix\n",
    "- 3.) plot the image using matplotlib"
   ]
  },
  {
   "cell_type": "markdown",
   "id": "0db17dbe",
   "metadata": {},
   "source": [
    "### Task 1.3.1 Isolate a feature vector\n",
    "This task can be seen as the \"inverse\" of task 1.2.1. But now, instead of a single feature over all samples, we want all the features for a single sample!\n",
    "\n",
    "Isolate a sample of your choice and save it in the variable _im_vec_."
   ]
  },
  {
   "cell_type": "code",
   "execution_count": 52,
   "id": "cba8bcdd",
   "metadata": {},
   "outputs": [
    {
     "name": "stdout",
     "output_type": "stream",
     "text": [
      "(64,)\n"
     ]
    }
   ],
   "source": [
    "im_vec = digits[\"data\"][0]\n",
    "print(im_vec.shape)"
   ]
  },
  {
   "cell_type": "markdown",
   "id": "ddd73a30",
   "metadata": {},
   "source": [
    "### Task 1.3.2 Reshape the vector into a 2D matrix\n",
    "Now, you should have a vector of length 64. The image samples of the dataset are square. So now you need to reshape the vector into the appropriate shape using Numpy. Save the resulting matrix into the variable _im_.\n",
    "\n",
    "Hint: a helpful function is [numpy.reshape](https://numpy.org/doc/stable/reference/generated/numpy.reshape.html)."
   ]
  },
  {
   "cell_type": "code",
   "execution_count": 55,
   "id": "584fcc46",
   "metadata": {},
   "outputs": [
    {
     "name": "stdout",
     "output_type": "stream",
     "text": [
      "(8, 8)\n"
     ]
    }
   ],
   "source": [
    "im = np.reshape(im_vec, (8,8))\n",
    "print(im.shape)"
   ]
  },
  {
   "cell_type": "markdown",
   "id": "6581bf35",
   "metadata": {},
   "source": [
    "### Task 1.3.3 Plot the image\n",
    "Use the skills obtained above to plot the sample using the ```imshow``` [function from matplotlib](https://matplotlib.org/stable/api/_as_gen/matplotlib.pyplot.imshow.html)."
   ]
  },
  {
   "cell_type": "code",
   "execution_count": 57,
   "id": "d0ee8850",
   "metadata": {},
   "outputs": [
    {
     "data": {
      "text/plain": [
       "<matplotlib.image.AxesImage at 0x7f75fcdf1400>"
      ]
     },
     "execution_count": 57,
     "metadata": {},
     "output_type": "execute_result"
    },
    {
     "data": {
      "image/png": "[encoded data removed]",
      "text/plain": [
       "<Figure size 432x288 with 1 Axes>"
      ]
     },
     "metadata": {
      "needs_background": "light"
     },
     "output_type": "display_data"
    }
   ],
   "source": [
    "plt.imshow(im)"
   ]
  },
  {
   "cell_type": "markdown",
   "id": "b6239e8d",
   "metadata": {},
   "source": [
    "## 1.4 Visual recognition of correlations\n",
    "\n",
    "In this part you shall plot different attributes against each other in a scatterplot to find out if the selected attributes are correlated.\n",
    "\n",
    "The [scatter()](https://matplotlib.org/stable/api/_as_gen/matplotlib.pyplot.scatter.html) function from matplotlib might be worthwhile to look into.\n",
    "\n",
    "Don't forget the title and axes labeling for your plots!\n"
   ]
  },
  {
   "cell_type": "markdown",
   "id": "d69edc60",
   "metadata": {},
   "source": [
    "### Task 1.4.1 Nitric oxid concentration and industrial density\n",
    "\n",
    "We assume a positive correlation between the proportion of non-retail business acres per town and the amount of nitric oxid in the air as a result of higher emissions in industrial areas.\n",
    "Plot the asscociated attributes (INDUS and NOX) against each other and analyse the plot to find out if this is true."
   ]
  },
  {
   "cell_type": "code",
   "execution_count": 60,
   "id": "cedf202b",
   "metadata": {},
   "outputs": [
    {
     "data": {
      "image/png": "[encoded data removed]",
      "text/plain": [
       "<Figure size 432x288 with 1 Axes>"
      ]
     },
     "metadata": {
      "needs_background": "light"
     },
     "output_type": "display_data"
    },
    {
     "data": {
      "text/plain": [
       "'\\nWe can see a positive correlation between both datasets because on average, y-values are higher, the bigger their corresponding x-values are.\\n'"
      ]
     },
     "execution_count": 60,
     "metadata": {},
     "output_type": "execute_result"
    }
   ],
   "source": [
    "indus_index = np.where(boston['feature_names'] == 'INDUS')[0][0]\n",
    "indus = boston['data'][:,indus_index]\n",
    "\n",
    "nox_index = np.where(boston['feature_names'] == 'NOX')[0][0]\n",
    "nox = boston['data'][:,nox_index]\n",
    "\n",
    "plot = plt.scatter(indus, nox)\n",
    "plt.title(\"Proportion of non-retail business acres per town vs. amount of nitric oxid in the air\")\n",
    "plt.xlabel(\"Proportion of non-retail business acres per town\")\n",
    "plt.ylabel(\"Amount of nitric oxid in the air\")\n",
    "plt.show()\n",
    "\n",
    "# is the assumption true?: your answer here.\n",
    "\"\"\"\n",
    "The assumption is true.\n",
    "We can see a positive correlation between both datasets because on average, y-values are higher, the bigger their corresponding x-values are.\n",
    "\"\"\""
   ]
  },
  {
   "cell_type": "markdown",
   "id": "a3fc08b3",
   "metadata": {},
   "source": [
    "### Task 1.4.2 House age and number of rooms\n",
    "\n",
    "We assume a negative correlation between the number of rooms and the age of the house as a result of the trend towards more open interior design choices and larger rooms in modern housing.\n",
    "Plot the asscociated attributes (RM and AGE) against each other and analyse the plot to find out if this assumption is true."
   ]
  },
  {
   "cell_type": "code",
   "execution_count": 65,
   "id": "602ebbf4",
   "metadata": {},
   "outputs": [
    {
     "data": {
      "image/png": "[encoded data removed]",
      "text/plain": [
       "<Figure size 432x288 with 1 Axes>"
      ]
     },
     "metadata": {
      "needs_background": "light"
     },
     "output_type": "display_data"
    },
    {
     "data": {
      "text/plain": [
       "'\\nThe assumption is false. A negative correlation cannot be seen. The data seems to be distributed approximately uniformly.\\n\\n'"
      ]
     },
     "execution_count": 65,
     "metadata": {},
     "output_type": "execute_result"
    }
   ],
   "source": [
    "rm_index = np.where(boston['feature_names'] == 'RM')[0][0]\n",
    "rm = boston['data'][:,rm_index]\n",
    "\n",
    "age_index = np.where(boston['feature_names'] == 'AGE')[0][0]\n",
    "age = boston['data'][:,age_index]\n",
    "\n",
    "plot = plt.scatter(age, rm)\n",
    "plt.title(\"Age of house vs. number of rooms\")\n",
    "plt.ylabel(\"Average number of rooms per dwelling\")\n",
    "plt.xlabel(\"Age of house\")\n",
    "plt.show()\n",
    "\n",
    "# is the assumption true?: your answer here.\n",
    "\"\"\"\n",
    "The assumption is false. A negative correlation cannot be seen. The data seems to be distributed approximately uniformly.\n",
    "\n",
    "\"\"\""
   ]
  },
  {
   "cell_type": "markdown",
   "id": "a397946a",
   "metadata": {},
   "source": [
    "### Task 1.4.3 Social status and price\n",
    "We assume a negative correlation between the amount of people with lower social status in a neighbourhood and the house prices.\n",
    "Plot the associated attributes (LSTAT and MDEV) against each other and analyse the plot to find out if this assumption is true."
   ]
  },
  {
   "cell_type": "code",
   "execution_count": 78,
   "id": "b319baea",
   "metadata": {},
   "outputs": [
    {
     "name": "stdout",
     "output_type": "stream",
     "text": [
      "['CRIM' 'ZN' 'INDUS' 'CHAS' 'NOX' 'RM' 'AGE' 'DIS' 'RAD' 'TAX' 'PTRATIO'\n",
      " 'B' 'LSTAT']\n"
     ]
    },
    {
     "data": {
      "image/png": "[encoded data removed]",
      "text/plain": [
       "<Figure size 432x288 with 1 Axes>"
      ]
     },
     "metadata": {
      "needs_background": "light"
     },
     "output_type": "display_data"
    },
    {
     "data": {
      "text/plain": [
       "'\\nThe assumption is true. We can clearly see that, on average, the higher the amount of people with lower social status, the lower their corresponding house prices get.\\n\\n'"
      ]
     },
     "execution_count": 78,
     "metadata": {},
     "output_type": "execute_result"
    }
   ],
   "source": [
    "print(boston['feature_names'])\n",
    "\n",
    "lstat_index = np.where(boston['feature_names'] == 'LSTAT')[0][0]\n",
    "lstat = boston['data'][:,lstat_index]\n",
    "\n",
    "# mdev_index = np.where(boston['feature_names'] == 'MEDV')[0][0]\n",
    "mdev = boston['target']\n",
    "\n",
    "plot = plt.scatter(lstat, mdev)\n",
    "plt.title(\"Amount of people with lower social status vs. House price\")\n",
    "plt.xlabel(\"Amount of people with lower social status\")\n",
    "plt.ylabel(\"House price\")\n",
    "plt.show()\n",
    "\n",
    "# is the assumption true?: your answer here.\n",
    "\"\"\"\n",
    "The assumption is true. We can clearly see that, on average, the higher the amount of people with lower social status, the lower their corresponding house prices get.\n",
    "\n",
    "\"\"\""
   ]
  }
 ],
 "metadata": {
  "kernelspec": {
   "display_name": "Python 3",
   "language": "python",
   "name": "python3"
  },
  "language_info": {
   "codemirror_mode": {
    "name": "ipython",
    "version": 3
   },
   "file_extension": ".py",
   "mimetype": "text/x-python",
   "name": "python",
   "nbconvert_exporter": "python",
   "pygments_lexer": "ipython3",
   "version": "3.9.3"
  }
 },
 "nbformat": 4,
 "nbformat_minor": 5
}
