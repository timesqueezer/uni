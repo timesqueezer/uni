{
 "cells": [
  {
   "cell_type": "markdown",
   "id": "c30802c2",
   "metadata": {},
   "source": [
    "# 4 Perceptron\n",
    "In this notebook we will want to look at the perceptron. What you have done manually in the previous task, we will now implement with Python and Numpy. Instead of choosing the weights by deliberation, first we will use the perceptron algorithm to learn the weights and later the backpropagation algorithm."
   ]
  },
  {
   "cell_type": "code",
   "execution_count": 1,
   "id": "369eb8f8",
   "metadata": {},
   "outputs": [],
   "source": [
    "import numpy as np\n",
    "import matplotlib.pyplot as plt"
   ]
  },
  {
   "cell_type": "markdown",
   "id": "a5aed5b5",
   "metadata": {},
   "source": [
    "## 4.0 Recap\n",
    "We need to implement three major parts for our objective: a data set, the foward pass and the backward pass.\n",
    "\n",
    "Remember that our perceptron has to inputs, a bias and three learnable weights.\n",
    "\n",
    "![Perceptron](./fig/PerceptronG.jpg)"
   ]
  },
  {
   "cell_type": "markdown",
   "id": "4c942e17",
   "metadata": {},
   "source": [
    "## 4.1 The Data\n",
    "Our aim is to learn the boolean function AND ($\\land$). For that purpose we can create our own data with the corresponding target/labels. We will use 0 for False and 1 for True.\n",
    "Also, the variable that holds the data will be denominated with _x_ and the variable holding the labels will be _t_.\n"
   ]
  },
  {
   "cell_type": "markdown",
   "id": "58a43ba1",
   "metadata": {},
   "source": [
    "### Task 4.1.1 Create the data\n",
    "We will need a dataset that holds all possible inputs for the Boolean function AND. Here is a quick reminder on how that function works:\n",
    "\n",
    "| A| B | A AND B  |\n",
    "| :--- | :--- | --- |\n",
    "| True | False | True |\n",
    "| True | False | False |\n",
    "| False | True | False |\n",
    "| False | False | False |\n",
    "\n",
    "Our dataset needs to contain all four possible combinations of True and False. As we have a bias, we can treat it just like an input neuron with a fixed input of True.\n",
    "\n",
    "The labels should contain the teaching signal or ground truth for each dataset sample (as a vector), i.e. the correct output of the corresponding input.\n",
    "\n",
    "Both, input data and labels, should be represented as Numpy Matrices/Vectors."
   ]
  },
  {
   "cell_type": "code",
   "execution_count": 2,
   "id": "910f4b47",
   "metadata": {},
   "outputs": [],
   "source": [
    "x = np.array([[1,1,1], [1,1,0], [1,0,1], [1,0,0]])"
   ]
  },
  {
   "cell_type": "code",
   "execution_count": 3,
   "id": "74f3d75a",
   "metadata": {},
   "outputs": [],
   "source": [
    "t = np.array([1,0,0,0])"
   ]
  },
  {
   "cell_type": "markdown",
   "id": "d1574061",
   "metadata": {},
   "source": [
    "## 4.2 The Forward Pass\n",
    "Now we have to setup all necessary functions to complete a first forward pass through our perceptron and obtain a prediction based on the input.\n",
    "We need to be able to calculate the inner activation of the neuron _h_, define the activation function _g_, and finally calculate the outer activation _y_."
   ]
  },
  {
   "cell_type": "markdown",
   "id": "8321b367",
   "metadata": {},
   "source": [
    "### Task 4.2.1 Inner activation _h_\n",
    "From the lecture we now that the inner activation _h_ is just a weighted sum of the inputs.\n",
    "\n",
    "$$  \\large h_i = \\sum_{j=1}^{n} w_{ij} x_j $$\n",
    "\n",
    "Complete the function _inner_activation()_. As inputs it should take the input activations and the synaptic weights and return inner activation _h_."
   ]
  },
  {
   "cell_type": "code",
   "execution_count": 14,
   "id": "85bef71e",
   "metadata": {},
   "outputs": [],
   "source": [
    "def inner_activation(weights, input_activations):\n",
    "    h = 0\n",
    "    for j, _x in enumerate(input_activations):\n",
    "        h += _x * weights[j]\n",
    "\n",
    "    return h"
   ]
  },
  {
   "cell_type": "markdown",
   "id": "a926f37e",
   "metadata": {},
   "source": [
    "### Task 4.2.2 The activation function _g_\n",
    "The perceptron algorithm uses a step function as its activation function (sometimes also refered to as Heaviside function), to transfer the inner activation _h_ to the outer activation _y_. It looks as follows:\n",
    "\n",
    "$$    y_i = \n",
    "    \\begin{cases}\n",
    "      1 & \\text{if } h_i \\geq \\theta \\\\\n",
    "      0 & \\text{otherwise}\n",
    "    \\end{cases} $$\n",
    "    \n",
    "As the threshold, we define $\\theta$ to be 0.\n",
    "\n",
    "Complete the function _g()_. It should take the inner activation _h_ as an input and return the outer activation _y_."
   ]
  },
  {
   "cell_type": "code",
   "execution_count": 6,
   "id": "c646686c",
   "metadata": {},
   "outputs": [],
   "source": [
    "def g(h):\n",
    "    y = 1 if h >= 0 else 0\n",
    "    return y"
   ]
  },
  {
   "cell_type": "markdown",
   "id": "37276c4f",
   "metadata": {},
   "source": [
    "### Task 4.2.3 Plot the activation function\n",
    "In order to check if we have done it correctly, we can plot the activation function.\n",
    "Create artificial datapoints in the range of -1 to 1, feed them into the activation function and plot the outputs."
   ]
  },
  {
   "cell_type": "code",
   "execution_count": 8,
   "id": "9f8e5b77",
   "metadata": {},
   "outputs": [
    {
     "data": {
      "image/png": "[encoded data removed]",
      "text/plain": [
       "<Figure size 432x288 with 1 Axes>"
      ]
     },
     "metadata": {
      "needs_background": "light"
     },
     "output_type": "display_data"
    }
   ],
   "source": [
    "d = np.linspace(-1, 1, 50)\n",
    "y=[]\n",
    "for i in d:\n",
    "    y.append(g(i))\n",
    "p = plt.scatter(d,y)\n",
    "plt.show(p)"
   ]
  },
  {
   "cell_type": "markdown",
   "id": "0f11798e",
   "metadata": {},
   "source": [
    "### Task 4.2.4 Putting it together\n",
    "Now we can combine our functions to compute the whole forward pass of the perceptron.\n",
    "\n",
    "Compete the function _forward_pass()_, which takes the input activations and the weights as inputs and returns the outer activation _y_."
   ]
  },
  {
   "cell_type": "code",
   "execution_count": 15,
   "id": "ec9edad9",
   "metadata": {},
   "outputs": [],
   "source": [
    "def forward_pass(weights, inputs):\n",
    "    return g(inner_activation(weights, inputs))"
   ]
  },
  {
   "cell_type": "markdown",
   "id": "25da539f",
   "metadata": {},
   "source": [
    "## 4.3 The Backward Pass\n",
    "The backward pass changes the weights in respect to the error.\n",
    "\n",
    "From the lecture we now that the update rule of the perceptron algorithm looks like this:\n",
    "\n",
    "$$ \\large \\Delta w_{ij} = \\eta (t_i - y_i) x_j $$\n",
    "$$ \\large w_{ij} \\leftarrow w_{ij} + \\Delta w_{ij} $$\n",
    "\n",
    "$\\eta$ is a hyperparameter that needs to be set. In our case, 0.01 is a reasonable value."
   ]
  },
  {
   "cell_type": "markdown",
   "id": "58fc00fe",
   "metadata": {},
   "source": [
    "### Task 4.3.1 Update the weights\n",
    "Complete the function _update()_ which takes as input the current weights, the label, the input activation and the outer activation and returns the updated weights."
   ]
  },
  {
   "cell_type": "code",
   "execution_count": 16,
   "id": "7cd7d458",
   "metadata": {},
   "outputs": [],
   "source": [
    "def update(weights, l, inputs, y):\n",
    "    eta = 0.01\n",
    "    updated_weights = []\n",
    "    for j, w in enumerate(weights):\n",
    "        delta_w = eta * (l - y) * inputs[j]\n",
    "        updated_weights.append(w + delta_w)\n",
    "\n",
    "    return updated_weights\n"
   ]
  },
  {
   "cell_type": "markdown",
   "id": "bfa10293",
   "metadata": {},
   "source": [
    "## 4.4 Learning the boolean function\n",
    "Now we can use all the functions we have written, to piece together the perceptron algorithm and learn the AND function. Before we start, we need to set a start point in the weight space. For that purpose we define the weights more or less randomly before the learning starts."
   ]
  },
  {
   "cell_type": "code",
   "execution_count": 17,
   "id": "0a4ada6d",
   "metadata": {},
   "outputs": [],
   "source": [
    "w = np.array([3.0,-3.0,-2.0])"
   ]
  },
  {
   "cell_type": "markdown",
   "id": "2e864871",
   "metadata": {},
   "source": [
    "### Task 4.4.1 The training loop\n",
    "In neural network training, you will often encouter a central training loop that iterates through the dataset and updates the weights regularly according to the generated predictions.\n",
    "Your task now is to write this training loop.\n",
    "\n",
    "For one epoch, step through all datapoints:\n",
    "  - compute the outer activation for the datapoint\n",
    "  - update the weights accordingly.\n",
    "  \n",
    "Do this for 1000 epochs.\n",
    "Every 50 epochs, print the current weights."
   ]
  },
  {
   "cell_type": "code",
   "execution_count": 25,
   "id": "dca48ef6",
   "metadata": {},
   "outputs": [
    {
     "name": "stdout",
     "output_type": "stream",
     "text": [
      "[-0.029999999999980327, 0.009999999999980325, 0.02000000000000164]\n",
      "[-0.029999999999980327, 0.009999999999980325, 0.02000000000000164]\n",
      "[-0.029999999999980327, 0.009999999999980325, 0.02000000000000164]\n",
      "[-0.029999999999980327, 0.009999999999980325, 0.02000000000000164]\n",
      "[-0.029999999999980327, 0.009999999999980325, 0.02000000000000164]\n",
      "[-0.029999999999980327, 0.009999999999980325, 0.02000000000000164]\n",
      "[-0.029999999999980327, 0.009999999999980325, 0.02000000000000164]\n",
      "[-0.029999999999980327, 0.009999999999980325, 0.02000000000000164]\n",
      "[-0.029999999999980327, 0.009999999999980325, 0.02000000000000164]\n",
      "[-0.029999999999980327, 0.009999999999980325, 0.02000000000000164]\n",
      "[-0.029999999999980327, 0.009999999999980325, 0.02000000000000164]\n",
      "[-0.029999999999980327, 0.009999999999980325, 0.02000000000000164]\n",
      "[-0.029999999999980327, 0.009999999999980325, 0.02000000000000164]\n",
      "[-0.029999999999980327, 0.009999999999980325, 0.02000000000000164]\n",
      "[-0.029999999999980327, 0.009999999999980325, 0.02000000000000164]\n",
      "[-0.029999999999980327, 0.009999999999980325, 0.02000000000000164]\n",
      "[-0.029999999999980327, 0.009999999999980325, 0.02000000000000164]\n",
      "[-0.029999999999980327, 0.009999999999980325, 0.02000000000000164]\n",
      "[-0.029999999999980327, 0.009999999999980325, 0.02000000000000164]\n",
      "[-0.029999999999980327, 0.009999999999980325, 0.02000000000000164]\n"
     ]
    }
   ],
   "source": [
    "for iteration in range(1000):\n",
    "    for i, d in enumerate(x):\n",
    "        y = forward_pass(w, d)\n",
    "        w = update(w, t[i], d, y)\n",
    "\n",
    "    if iteration % 50 == 0:\n",
    "        print(w)"
   ]
  },
  {
   "cell_type": "markdown",
   "id": "993a8d1c",
   "metadata": {},
   "source": [
    "As you might have realised, the weights do not change anymore after a certain point. The perceptron algorithm has converged.\n",
    "We now have a set of weights, that we can use for predicting Boolean values. But before we deploy our model, we need to evaluate its quality. Has it really learned the function properly?"
   ]
  },
  {
   "cell_type": "markdown",
   "id": "f8bff9f9",
   "metadata": {},
   "source": [
    "### Task 4.4.2 The error _E(w)_\n",
    "In order to evaluate how good our current set of weights _w_ is, we can compute the error.\n",
    "\n",
    "$$ \\large E(w) = \\frac{1}{2} \\sum_i (t_i - y_i)^2 $$\n",
    "\n",
    "Implement the function _error()_ which takes predcitions (outer activations) and (labels) as input and returns the error.\n",
    "\n",
    "Afterwards, compute the prediction error for the whole dataset. If it is zero, your model predicts perfectly."
   ]
  },
  {
   "cell_type": "code",
   "execution_count": 20,
   "id": "78bba1eb",
   "metadata": {},
   "outputs": [],
   "source": [
    "def error(preds, labels):\n",
    "    res = 0\n",
    "    for i in range(len(preds)):\n",
    "        s = (labels[i] - preds[i]) ** 2\n",
    "        res += s\n",
    "    return 0.5 * res"
   ]
  },
  {
   "cell_type": "code",
   "execution_count": 24,
   "id": "3d40970a",
   "metadata": {},
   "outputs": [
    {
     "name": "stdout",
     "output_type": "stream",
     "text": [
      "0.0\n"
     ]
    }
   ],
   "source": [
    "# getting the prediction error for the whole dataset\n",
    "preds = [forward_pass(w, d) for d in x]\n",
    "print(error(t,preds))"
   ]
  },
  {
   "cell_type": "markdown",
   "id": "129400c1",
   "metadata": {},
   "source": [
    "## 4.5 Deploy the model\n",
    "Now that we have a perfectly working and evaluated model, the most interesting part for the machine learning researcher is done. However, the end user, who might not be as familiar with neural networks as we are, might have trouble applying the model to new, unseen data."
   ]
  },
  {
   "cell_type": "markdown",
   "id": "76a62a61",
   "metadata": {},
   "source": [
    "### Task 4.5.1 The AND function\n",
    "We want to write a function that does not require the user to know about inner and outer activations or transfer functions but still enable them to harness the power of our model.\n",
    "\n",
    "Complete the function _AND()_ that takes as input too boolean values A and B and returns the prediction of our perceptron model."
   ]
  },
  {
   "cell_type": "code",
   "execution_count": 26,
   "id": "2697c32f",
   "metadata": {},
   "outputs": [],
   "source": [
    "def AND(a,b):\n",
    "    return g(inner_activation([1,a,b],w))"
   ]
  }
 ],
 "metadata": {
  "kernelspec": {
   "display_name": "Python 3",
   "language": "python",
   "name": "python3"
  },
  "language_info": {
   "codemirror_mode": {
    "name": "ipython",
    "version": 3
   },
   "file_extension": ".py",
   "mimetype": "text/x-python",
   "name": "python",
   "nbconvert_exporter": "python",
   "pygments_lexer": "ipython3",
   "version": "3.9.5"
  }
 },
 "nbformat": 4,
 "nbformat_minor": 5
}
