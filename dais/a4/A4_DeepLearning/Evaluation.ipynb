{
 "cells": [
  {
   "cell_type": "markdown",
   "id": "e292f456",
   "metadata": {},
   "source": [
    "## Model evaluation\n",
    "In this task we will take a look at the evaluation of a classifier. To do this we give you some functions that allow you to train a classifier with PyTorch. PyTorch is a bit more advanced than scikit-learn and needs you to do more of the busy work yourself.\n",
    "On the other hand it gives you the freedom to manually create your own training schemes and network configurations. Together with tensorflow it is the defacto industry standart when it comes to neural network training.\n",
    "For this task it's not really necessary to understand the PyTorch code but if you're interested in learning PyTorch try to follow along by reading the comments. Don't worry, it's ok if you don't understand everything. Just be aware that for our purpose torch.tensor behaves mostly like numpy.array which you should be familiar with by now.\n",
    "\n",
    "\n",
    "A great opporunity to learn more is the PyTorch Homepage wich provides many Tutorials on different machine learning tasks. \n",
    "https://pytorch.org/tutorials/\n",
    "\n",
    "If you want to find information on a given function take a look at the documentation: \n",
    "https://pytorch.org/docs/stable/index.html"
   ]
  },
  {
   "cell_type": "code",
   "execution_count": 1,
   "id": "0d10c5b4",
   "metadata": {},
   "outputs": [
    {
     "name": "stdout",
     "output_type": "stream",
     "text": [
      "Collecting torch\n",
      "  Downloading torch-1.8.1-cp39-cp39-manylinux1_x86_64.whl (804.1 MB)\n",
      "\u001b[K     |████████████████████████████████| 804.1 MB 5.7 kB/s eta 0:00:017   |███                             | 75.5 MB 7.8 MB/s eta 0:01:34     |███▍                            | 83.9 MB 8.9 MB/s eta 0:01:22     |███████                         | 173.6 MB 9.1 MB/s eta 0:01:10     |██████████▍                     | 260.6 MB 8.9 MB/s eta 0:01:01     |███████████▍                    | 287.2 MB 9.0 MB/s eta 0:00:58     |█████████████████████▉          | 549.9 MB 8.8 MB/s eta 0:00:29     |██████████████████████████▊     | 671.4 MB 8.9 MB/s eta 0:00:15     |████████████████████████████▍   | 714.1 MB 9.1 MB/s eta 0:00:10\n",
      "\u001b[?25hRequirement already satisfied: numpy in /home/matz/uni/dais/env/lib/python3.9/site-packages (from torch) (1.20.2)\n",
      "Collecting typing-extensions\n",
      "  Downloading typing_extensions-3.10.0.0-py3-none-any.whl (26 kB)\n",
      "Installing collected packages: typing-extensions, torch\n",
      "Successfully installed torch-1.8.1 typing-extensions-3.10.0.0\n",
      "\u001b[33mWARNING: You are using pip version 21.0.1; however, version 21.1.2 is available.\n",
      "You should consider upgrading via the '/home/matz/uni/dais/env/bin/python -m pip install --upgrade pip' command.\u001b[0m\n",
      "Collecting sklearn\n",
      "  Downloading sklearn-0.0.tar.gz (1.1 kB)\n",
      "Requirement already satisfied: scikit-learn in /home/matz/uni/dais/env/lib/python3.9/site-packages (from sklearn) (0.24.1)\n",
      "Requirement already satisfied: joblib>=0.11 in /home/matz/uni/dais/env/lib/python3.9/site-packages (from scikit-learn->sklearn) (1.0.1)\n",
      "Requirement already satisfied: scipy>=0.19.1 in /home/matz/uni/dais/env/lib/python3.9/site-packages (from scikit-learn->sklearn) (1.6.3)\n",
      "Requirement already satisfied: threadpoolctl>=2.0.0 in /home/matz/uni/dais/env/lib/python3.9/site-packages (from scikit-learn->sklearn) (2.1.0)\n",
      "Requirement already satisfied: numpy>=1.13.3 in /home/matz/uni/dais/env/lib/python3.9/site-packages (from scikit-learn->sklearn) (1.20.2)\n",
      "Building wheels for collected packages: sklearn\n",
      "  Building wheel for sklearn (setup.py) ... \u001b[?25ldone\n",
      "\u001b[?25h  Created wheel for sklearn: filename=sklearn-0.0-py2.py3-none-any.whl size=1316 sha256=033064d4707d217c47c9aef4bb74e7a3d83335e4504da7cf8db790bf546df8bf\n",
      "  Stored in directory: /home/matz/.cache/pip/wheels/e4/7b/98/b6466d71b8d738a0c547008b9eb39bf8676d1ff6ca4b22af1c\n",
      "Successfully built sklearn\n",
      "Installing collected packages: sklearn\n",
      "Successfully installed sklearn-0.0\n",
      "\u001b[33mWARNING: You are using pip version 21.0.1; however, version 21.1.2 is available.\n",
      "You should consider upgrading via the '/home/matz/uni/dais/env/bin/python -m pip install --upgrade pip' command.\u001b[0m\n"
     ]
    }
   ],
   "source": [
    "#Install the needed packages\n",
    "!python -m pip install torch\n",
    "!python -m pip install sklearn"
   ]
  },
  {
   "cell_type": "code",
   "execution_count": 2,
   "id": "cathedral-bowling",
   "metadata": {},
   "outputs": [],
   "source": [
    "import torch\n",
    "from torch.utils.data import Dataset, DataLoader\n",
    "from sklearn.datasets import load_wine\n",
    "from sklearn.preprocessing import StandardScaler\n",
    "torch.manual_seed(0)\n",
    "import random"
   ]
  },
  {
   "cell_type": "markdown",
   "id": "direct-david",
   "metadata": {},
   "source": [
    "### Load the data\n",
    "We load the Wine data set from scikit learn and normalize it with z-score transformation. Afterwards we shuffle the data because it is ordered by class and this order would mess with the kfold crossvalidation you are going to implement."
   ]
  },
  {
   "cell_type": "code",
   "execution_count": 3,
   "id": "1f90da40",
   "metadata": {},
   "outputs": [],
   "source": [
    "wine = load_wine()\n",
    "data = wine[\"data\"]\n",
    "\n",
    "target = torch.from_numpy(wine[\"target\"])\n",
    "\n",
    "#scale the data to mean = 0 and var = 1\n",
    "scaler = StandardScaler()\n",
    "scaler.fit(data)\n",
    "data = torch.from_numpy(scaler.transform(data)).float()\n",
    "\n",
    "#Because the data is ordered we need to shuffle it\n",
    "shuffle_seed = torch.randperm(data.shape[0])\n",
    "data = data[shuffle_seed]\n",
    "target = target[shuffle_seed]\n",
    "\n",
    "attribute_count = data.shape[1]\n",
    "label_count = len(wine[\"target_names\"])"
   ]
  },
  {
   "cell_type": "markdown",
   "id": "6c075b9e",
   "metadata": {},
   "source": [
    "### Dataset\n",
    "As you should already know you can print the information about the dataset with the \"DESCR\" key."
   ]
  },
  {
   "cell_type": "code",
   "execution_count": 4,
   "id": "b0a866f2",
   "metadata": {},
   "outputs": [
    {
     "name": "stdout",
     "output_type": "stream",
     "text": [
      ".. _wine_dataset:\n",
      "\n",
      "Wine recognition dataset\n",
      "------------------------\n",
      "\n",
      "**Data Set Characteristics:**\n",
      "\n",
      "    :Number of Instances: 178 (50 in each of three classes)\n",
      "    :Number of Attributes: 13 numeric, predictive attributes and the class\n",
      "    :Attribute Information:\n",
      " \t\t- Alcohol\n",
      " \t\t- Malic acid\n",
      " \t\t- Ash\n",
      "\t\t- Alcalinity of ash  \n",
      " \t\t- Magnesium\n",
      "\t\t- Total phenols\n",
      " \t\t- Flavanoids\n",
      " \t\t- Nonflavanoid phenols\n",
      " \t\t- Proanthocyanins\n",
      "\t\t- Color intensity\n",
      " \t\t- Hue\n",
      " \t\t- OD280/OD315 of diluted wines\n",
      " \t\t- Proline\n",
      "\n",
      "    - class:\n",
      "            - class_0\n",
      "            - class_1\n",
      "            - class_2\n",
      "\t\t\n",
      "    :Summary Statistics:\n",
      "    \n",
      "    ============================= ==== ===== ======= =====\n",
      "                                   Min   Max   Mean     SD\n",
      "    ============================= ==== ===== ======= =====\n",
      "    Alcohol:                      11.0  14.8    13.0   0.8\n",
      "    Malic Acid:                   0.74  5.80    2.34  1.12\n",
      "    Ash:                          1.36  3.23    2.36  0.27\n",
      "    Alcalinity of Ash:            10.6  30.0    19.5   3.3\n",
      "    Magnesium:                    70.0 162.0    99.7  14.3\n",
      "    Total Phenols:                0.98  3.88    2.29  0.63\n",
      "    Flavanoids:                   0.34  5.08    2.03  1.00\n",
      "    Nonflavanoid Phenols:         0.13  0.66    0.36  0.12\n",
      "    Proanthocyanins:              0.41  3.58    1.59  0.57\n",
      "    Colour Intensity:              1.3  13.0     5.1   2.3\n",
      "    Hue:                          0.48  1.71    0.96  0.23\n",
      "    OD280/OD315 of diluted wines: 1.27  4.00    2.61  0.71\n",
      "    Proline:                       278  1680     746   315\n",
      "    ============================= ==== ===== ======= =====\n",
      "\n",
      "    :Missing Attribute Values: None\n",
      "    :Class Distribution: class_0 (59), class_1 (71), class_2 (48)\n",
      "    :Creator: R.A. Fisher\n",
      "    :Donor: Michael Marshall (MARSHALL%PLU@io.arc.nasa.gov)\n",
      "    :Date: July, 1988\n",
      "\n",
      "This is a copy of UCI ML Wine recognition datasets.\n",
      "https://archive.ics.uci.edu/ml/machine-learning-databases/wine/wine.data\n",
      "\n",
      "The data is the results of a chemical analysis of wines grown in the same\n",
      "region in Italy by three different cultivators. There are thirteen different\n",
      "measurements taken for different constituents found in the three types of\n",
      "wine.\n",
      "\n",
      "Original Owners: \n",
      "\n",
      "Forina, M. et al, PARVUS - \n",
      "An Extendible Package for Data Exploration, Classification and Correlation. \n",
      "Institute of Pharmaceutical and Food Analysis and Technologies,\n",
      "Via Brigata Salerno, 16147 Genoa, Italy.\n",
      "\n",
      "Citation:\n",
      "\n",
      "Lichman, M. (2013). UCI Machine Learning Repository\n",
      "[https://archive.ics.uci.edu/ml]. Irvine, CA: University of California,\n",
      "School of Information and Computer Science. \n",
      "\n",
      ".. topic:: References\n",
      "\n",
      "  (1) S. Aeberhard, D. Coomans and O. de Vel, \n",
      "  Comparison of Classifiers in High Dimensional Settings, \n",
      "  Tech. Rep. no. 92-02, (1992), Dept. of Computer Science and Dept. of  \n",
      "  Mathematics and Statistics, James Cook University of North Queensland. \n",
      "  (Also submitted to Technometrics). \n",
      "\n",
      "  The data was used with many others for comparing various \n",
      "  classifiers. The classes are separable, though only RDA \n",
      "  has achieved 100% correct classification. \n",
      "  (RDA : 100%, QDA 99.4%, LDA 98.9%, 1NN 96.1% (z-transformed data)) \n",
      "  (All results using the leave-one-out technique) \n",
      "\n",
      "  (2) S. Aeberhard, D. Coomans and O. de Vel, \n",
      "  \"THE CLASSIFICATION PERFORMANCE OF RDA\" \n",
      "  Tech. Rep. no. 92-01, (1992), Dept. of Computer Science and Dept. of \n",
      "  Mathematics and Statistics, James Cook University of North Queensland. \n",
      "  (Also submitted to Journal of Chemometrics).\n",
      "\n"
     ]
    }
   ],
   "source": [
    "print(wine[\"DESCR\"])"
   ]
  },
  {
   "cell_type": "markdown",
   "id": "objective-majority",
   "metadata": {},
   "source": [
    "### Define model\n",
    "Here we define our model. Some of the values are fixed by our dataset, like the number of input neurons and the number of output neurons. The hidden layers can be varied and are given in here as a list of integers, where every element defines the number of neurons in a hidden layer i.e. hidden_layers =  [10,10] defines a neural network with two hidden layers with 10 neurons each."
   ]
  },
  {
   "cell_type": "code",
   "execution_count": 5,
   "id": "enormous-uncle",
   "metadata": {},
   "outputs": [],
   "source": [
    "def create_model(hidden_layers = [],input_size = attribute_count, output_size = label_count, \n",
    "                 activation = torch.nn.ReLU(),output_activation = torch.nn.Identity()):\n",
    "    #the list of sizes is usefull to manage the input and output sizes of the layers in our network\n",
    "    sizes = [input_size] + hidden_layers + [output_size]\n",
    "    #the list of layers will be combined by using nn.Sequential to easily create a feed forwad network\n",
    "    #from a list of layers and activation functions\n",
    "    layers = []\n",
    "    \n",
    "    for i in range(len(sizes)-1):\n",
    "        #choose the inner activation function for all layers except the last one\n",
    "        act = activation if i < len(sizes) -2 else output_activation\n",
    "        #concatenate a Linear layer and the activation function with our layer list\n",
    "        layers+= [torch.nn.Linear(sizes[i],sizes[i+1]),act]\n",
    "    #create the neural network from our layer list\n",
    "    return torch.nn.Sequential(*layers)"
   ]
  },
  {
   "cell_type": "markdown",
   "id": "regular-audit",
   "metadata": {},
   "source": [
    "### Training Loop\n",
    "The train_model function contains the training Loop for a given model. Mandatory inputs are the model, data, target and epochs. "
   ]
  },
  {
   "cell_type": "code",
   "execution_count": 6,
   "id": "current-certification",
   "metadata": {},
   "outputs": [],
   "source": [
    "def trainModel(model, data, target, epochs, lr = 0.01, batchsize = 20, shuffle = False):\n",
    "    #How to calculate the Loss (here we use crossentropy) \n",
    "    criterion = torch.nn.CrossEntropyLoss()\n",
    "    \n",
    "    #The Optimization method for the weights Adam or Stochastic Gradient Descent (SGD) are feasible\n",
    "    optimizer = torch.optim.Adam(model.parameters(),lr=lr)\n",
    "    #Loop n times over the Dataset\n",
    "    for epoch in range(epochs):\n",
    "        #It may be helpful to shuffle your data every epoch, we don't do it here for reproducibility reasons\n",
    "        if shuffle:\n",
    "            seed = torch.randperm(data.shape[0])\n",
    "            data = data[seed]\n",
    "            target = target[seed]\n",
    "        for index in range(0,len(data),batchsize):\n",
    "            #create the batch\n",
    "            batch_last = index + batchsize\n",
    "            data_batch = data[index: batch_last] if batch_last < data.shape[0] else data[index: -1]\n",
    "            target_batch = target[index: batch_last] if batch_last < target.shape[0] else target[index: -1]\n",
    "            \n",
    "            #forward pass\n",
    "            #calculate the outputs\n",
    "            scores = model(data_batch)\n",
    "            #calculate the loss\n",
    "            loss = criterion(scores, target_batch)\n",
    "            #backpropagation\n",
    "            #The gradient has to be set to zero before calculating the new gradients\n",
    "            optimizer.zero_grad()\n",
    "            #propagate the loss backwards through the network\n",
    "            loss.backward()\n",
    "            #update the weights\n",
    "            optimizer.step()\n",
    "    #return the trained model       \n",
    "    return model\n",
    "    "
   ]
  },
  {
   "cell_type": "markdown",
   "id": "69b26619",
   "metadata": {},
   "source": [
    "### Make predictions\n",
    "The predict function takes the model and some data and predicts the class asscociated with the data."
   ]
  },
  {
   "cell_type": "code",
   "execution_count": 7,
   "id": "6931014f",
   "metadata": {},
   "outputs": [],
   "source": [
    "def predict(data,model):\n",
    "    #if a single datapoint is given we have to unsqueeze it to handle more than one datapoint aswell\n",
    "    if(len(data.shape)) == 1:\n",
    "        data = data.unsqueeze(0)\n",
    "    #find the output of our model that has the largest value and use it as our prediction\n",
    "    #(torch.tensor.max() returns the largest value as the first return value and its index as the scond return value)\n",
    "    _, prediction = model(data).max(1)\n",
    "    return prediction"
   ]
  },
  {
   "cell_type": "markdown",
   "id": "b7d3c213",
   "metadata": {},
   "source": [
    "### Accuracy\n",
    "The calculate_accuracy function takes some data and the asscociated targets and a model and calculates the accuracy of the model"
   ]
  },
  {
   "cell_type": "code",
   "execution_count": 8,
   "id": "7380b0c7",
   "metadata": {},
   "outputs": [],
   "source": [
    "def calculate_accuracy(data, target, model):\n",
    "    num_samples = data.shape[0]\n",
    "    #switch to evaluation mode\n",
    "    model.eval()\n",
    "    with torch.no_grad():\n",
    "        #generate the predictions for the data from our model\n",
    "        prediction = predict(data,model)\n",
    "        #sum up correct predictions (True = 1)\n",
    "        num_correct = (prediction == target).sum()\n",
    "        #calculate accuracy (proportion of correct predictions)\n",
    "        return num_correct/num_samples\n"
   ]
  },
  {
   "cell_type": "markdown",
   "id": "2ed95000",
   "metadata": {},
   "source": [
    "### Putting it all together\n",
    "Now it is time to put it all together. We create a Model with two hidden layers with 100 neurons each and train it on the whole dataset. After that we evaluate the accuracy of our model on the training-data."
   ]
  },
  {
   "cell_type": "code",
   "execution_count": 9,
   "id": "f9a23d1c",
   "metadata": {},
   "outputs": [
    {
     "name": "stdout",
     "output_type": "stream",
     "text": [
      "Accuracy on training set: 100.00 %\n"
     ]
    }
   ],
   "source": [
    "model = create_model([10])\n",
    "model = trainModel(model, data, target, 50, lr = 0.01)\n",
    "accuracy = calculate_accuracy(data,target, model)\n",
    "print(f\"Accuracy on training set: {accuracy*100:.2f} %\")"
   ]
  },
  {
   "cell_type": "markdown",
   "id": "3d3c5d25",
   "metadata": {},
   "source": [
    "### Crossvalidation\n",
    "100% Accuracy looks really good, but maybe it's too good to be true. Till now we trained on the same set that we used for evaluation, this is a bad practice especially for small  datasets like ours because our network may be overfitting.\n",
    "\n",
    "Now it's your turn, write a function that performs kfold crossvalidation on the dataset to test the quality of your model. To do so split the data into k training and test subsets. Train multiple models on the training data and evaluate the accuracy on the test data.\n",
    "\n",
    "Return the different results aswell as the average accuracy."
   ]
  },
  {
   "cell_type": "code",
   "execution_count": 53,
   "id": "f81238e0",
   "metadata": {},
   "outputs": [],
   "source": [
    "def kfold_crossvalidation(k, data, target, hidden = [10], epochs  = 50, lr = 0.01):\n",
    "    data_chunks = [data[i:i + k] for i in range(0, len(data), k)]\n",
    "    target_chunks = [target[i:i + k] for i in range(0, len(target), k)]\n",
    "    \n",
    "    print(list(len(c) for c in data_chunks))\n",
    "    print(list(len(c) for c in target_chunks))\n",
    "\n",
    "    test_data = data_chunks[0]\n",
    "    test_target = target_chunks[0]\n",
    "    training_data = data_chunks[1:]\n",
    "    training_target = target_chunks[1:]\n",
    "    accuracies = []\n",
    "    models = []\n",
    "\n",
    "    for i, td in enumerate(training_data):\n",
    "        model = create_model(hidden)\n",
    "        models.append(trainModel(model, td, training_target[i], epochs, lr))\n",
    "        \n",
    "    for i, m in enumerate(models):\n",
    "        accuracies.append(calculate_accuracy(test_data, test_target, m))\n",
    "\n",
    "    avg_accuracy = sum(accuracies) / len(accuracies)\n",
    "    return (accuracies, avg_accuracy)"
   ]
  },
  {
   "cell_type": "markdown",
   "id": "78641ad6",
   "metadata": {},
   "source": [
    "### Test kfold crossvalidation\n",
    "The following code can be used to test your implementation, if your average accuracy is at ~97% you probably have done it correctly."
   ]
  },
  {
   "cell_type": "code",
   "execution_count": 54,
   "id": "c3b8e059",
   "metadata": {
    "scrolled": true
   },
   "outputs": [
    {
     "name": "stdout",
     "output_type": "stream",
     "text": [
      "[10, 10, 10, 10, 10, 10, 10, 10, 10, 10, 10, 10, 10, 10, 10, 10, 10, 8]\n",
      "[10, 10, 10, 10, 10, 10, 10, 10, 10, 10, 10, 10, 10, 10, 10, 10, 10, 8]\n"
     ]
    },
    {
     "data": {
      "text/plain": [
       "([tensor(0.2000),\n",
       "  tensor(0.4000),\n",
       "  tensor(0.4000),\n",
       "  tensor(0.4000),\n",
       "  tensor(0.2000),\n",
       "  tensor(0.2000),\n",
       "  tensor(0.4000),\n",
       "  tensor(0.4000),\n",
       "  tensor(0.4000),\n",
       "  tensor(0.4000),\n",
       "  tensor(0.4000),\n",
       "  tensor(0.4000),\n",
       "  tensor(0.4000),\n",
       "  tensor(0.4000),\n",
       "  tensor(0.4000),\n",
       "  tensor(0.4000),\n",
       "  tensor(0.4000)],\n",
       " tensor(0.3647))"
      ]
     },
     "execution_count": 54,
     "metadata": {},
     "output_type": "execute_result"
    }
   ],
   "source": [
    "torch.manual_seed(0)\n",
    "kfold_crossvalidation(10, data, target, [10], 10, 0.01)"
   ]
  },
  {
   "cell_type": "markdown",
   "id": "d6800c29",
   "metadata": {},
   "source": [
    "### Calculate the confusion Matrix\n",
    "Since our model is not as perfect as it seems, let's find out what kind of misclassifications it produced. Write a function that calculates the confusion matrix for our data. To do so create a m x m matrix with m = number of classes. Predict the classes and compare the prediction with the target. Sum up how often the classes where assigned the different classes by our classifier."
   ]
  },
  {
   "cell_type": "code",
   "execution_count": null,
   "id": "d84252a0",
   "metadata": {},
   "outputs": [],
   "source": [
    "def confusion_matrix(data,target,model):\n",
    "    #Your code here\n",
    "    return confusion_matrix"
   ]
  },
  {
   "cell_type": "markdown",
   "id": "be92c8ef",
   "metadata": {},
   "source": [
    "### Test the confusion matrix\n",
    "The following code can be used to test your confusion matrix. If you have implemented correctly there should be (an) error(s). "
   ]
  },
  {
   "cell_type": "code",
   "execution_count": null,
   "id": "2548dd8d",
   "metadata": {},
   "outputs": [],
   "source": [
    "torch.manual_seed(0)\n",
    "\n",
    "training_data = data[0:120]\n",
    "training_target = target[0:120]\n",
    "\n",
    "test_data = data[120:-1]\n",
    "test_target = target[120:-1]\n",
    "\n",
    "model = create_model([10])\n",
    "model = trainModel(model, training_data, training_target, 10, lr = 0.01)\n",
    "\n",
    "print(confusion_matrix(test_data,test_target,model))"
   ]
  },
  {
   "cell_type": "markdown",
   "id": "c35dac39",
   "metadata": {},
   "source": [
    "### What kind of error(s) did our model produce?"
   ]
  },
  {
   "cell_type": "code",
   "execution_count": null,
   "id": "a78a75d9",
   "metadata": {},
   "outputs": [],
   "source": [
    "#Your answer here"
   ]
  }
 ],
 "metadata": {
  "kernelspec": {
   "display_name": "Python 3",
   "language": "python",
   "name": "python3"
  },
  "language_info": {
   "codemirror_mode": {
    "name": "ipython",
    "version": 3
   },
   "file_extension": ".py",
   "mimetype": "text/x-python",
   "name": "python",
   "nbconvert_exporter": "python",
   "pygments_lexer": "ipython3",
   "version": "3.9.5"
  }
 },
 "nbformat": 4,
 "nbformat_minor": 5
}
