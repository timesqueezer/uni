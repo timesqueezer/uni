{
 "cells": [
  {
   "cell_type": "markdown",
   "id": "6df5bbb9",
   "metadata": {},
   "source": [
    "# 4 FMSSVRC\n",
    "__Fashion-MNIST Small Scale Visual Recognition Challenge__"
   ]
  },
  {
   "cell_type": "markdown",
   "id": "a96c3b51",
   "metadata": {},
   "source": [
    "We want to write a powerful model that can make accurate predictions and correctly classify different pieces of clothing.\n",
    "\n",
    "Most of the code is already written, including a deep neural network model.\n",
    "However, the performance of said model is subpar. It is your task to complete indicated functions and cells, so that you can train the model. Further, you should change and tweak the model as well as hyperparameters to create a well performing model. You can aim for accuracies in the high 80ies!\n",
    "\n",
    "Experiment around with architecture choices and different hyperparamters. The lecture slides and PyTorch give you a good overview of what is possible. Keep in mind, though, that blindly copy-pasting code from other sources without proper referencing and consent can be seen as plagiarism."
   ]
  },
  {
   "cell_type": "markdown",
   "id": "5c9b0f04",
   "metadata": {},
   "source": [
    "The quality of your model is evaluated on the test data set. Continously optimising your model according to the performance on the test data set is bad scientific practice. Ideally, the evaluation on the test data should happen  just once, when you are confident that you have trained your model to the best of your knowledge. While tweaking your model, you may evaluate its quality on a validation set of the data."
   ]
  },
  {
   "cell_type": "markdown",
   "id": "cbde7102",
   "metadata": {},
   "source": [
    "You are not allowed to change arbitrary code of the notebook. Instead, functions, variables etc. which you can change, will be indicated explicitely (see __Task__ keyword).\n",
    "Please leave the seeds intact!"
   ]
  },
  {
   "cell_type": "markdown",
   "id": "92ffe4d0",
   "metadata": {},
   "source": [
    "## 4.1 Installing PyTorch"
   ]
  },
  {
   "cell_type": "code",
   "execution_count": 1,
   "id": "2e699a61",
   "metadata": {},
   "outputs": [
    {
     "name": "stdout",
     "output_type": "stream",
     "text": [
      "Collecting torch\n",
      "  Downloading torch-1.8.1-cp39-cp39-manylinux1_x86_64.whl (804.1 MB)\n",
      "\u001b[K     |████████████████████████████████| 804.1 MB 21 kB/s  eta 0:00:010\n",
      "\u001b[?25hCollecting torchvision\n",
      "  Downloading torchvision-0.9.1-cp39-cp39-manylinux1_x86_64.whl (17.3 MB)\n",
      "\u001b[K     |████████████████████████████████| 17.3 MB 8.0 MB/s eta 0:00:01\n",
      "\u001b[?25hCollecting typing-extensions\n",
      "  Downloading typing_extensions-3.10.0.0-py3-none-any.whl (26 kB)\n",
      "Requirement already satisfied: numpy in /mnt/super_raid/uni/dais/env/lib/python3.9/site-packages (from torch) (1.20.3)\n",
      "Requirement already satisfied: pillow>=4.1.1 in /mnt/super_raid/uni/dais/env/lib/python3.9/site-packages (from torchvision) (8.2.0)\n",
      "Installing collected packages: typing-extensions, torch, torchvision\n",
      "Successfully installed torch-1.8.1 torchvision-0.9.1 typing-extensions-3.10.0.0\n",
      "\u001b[33mWARNING: You are using pip version 21.0.1; however, version 21.1.2 is available.\n",
      "You should consider upgrading via the '/mnt/super_raid/uni/dais/env/bin/python -m pip install --upgrade pip' command.\u001b[0m\n"
     ]
    }
   ],
   "source": [
    "!pip install torch torchvision"
   ]
  },
  {
   "cell_type": "code",
   "execution_count": 2,
   "id": "7390d495",
   "metadata": {},
   "outputs": [],
   "source": [
    "import torch\n",
    "import torch.nn as nn\n",
    "import torchvision\n",
    "torch.manual_seed(42)\n",
    "import matplotlib.pyplot as plt\n",
    "import numpy as np"
   ]
  },
  {
   "cell_type": "markdown",
   "id": "23e8d6f1",
   "metadata": {},
   "source": [
    "## 4.2 Obtaining the dataset\n",
    "We are going to use the [Fashion-MNIST](https://arxiv.org/abs/1708.07747) dataset, which is a more difficult alternative to the standard MNIST dataset."
   ]
  },
  {
   "cell_type": "code",
   "execution_count": 3,
   "id": "7f466806",
   "metadata": {
    "scrolled": true
   },
   "outputs": [
    {
     "name": "stderr",
     "output_type": "stream",
     "text": [
      "0.1%"
     ]
    },
    {
     "name": "stdout",
     "output_type": "stream",
     "text": [
      "Downloading http://fashion-mnist.s3-website.eu-central-1.amazonaws.com/train-images-idx3-ubyte.gz\n",
      "Downloading http://fashion-mnist.s3-website.eu-central-1.amazonaws.com/train-images-idx3-ubyte.gz to ./data/FashionMNIST/raw/train-images-idx3-ubyte.gz\n"
     ]
    },
    {
     "name": "stderr",
     "output_type": "stream",
     "text": [
      "11.6%IOPub message rate exceeded.\n",
      "The notebook server will temporarily stop sending output\n",
      "to the client in order to avoid crashing it.\n",
      "To change this limit, set the config variable\n",
      "`--NotebookApp.iopub_msg_rate_limit`.\n",
      "\n",
      "Current values:\n",
      "NotebookApp.iopub_msg_rate_limit=1000.0 (msgs/sec)\n",
      "NotebookApp.rate_limit_window=3.0 (secs)\n",
      "\n",
      "31.3%IOPub message rate exceeded.\n",
      "The notebook server will temporarily stop sending output\n",
      "to the client in order to avoid crashing it.\n",
      "To change this limit, set the config variable\n",
      "`--NotebookApp.iopub_msg_rate_limit`.\n",
      "\n",
      "Current values:\n",
      "NotebookApp.iopub_msg_rate_limit=1000.0 (msgs/sec)\n",
      "NotebookApp.rate_limit_window=3.0 (secs)\n",
      "\n",
      "51.0%IOPub message rate exceeded.\n",
      "The notebook server will temporarily stop sending output\n",
      "to the client in order to avoid crashing it.\n",
      "To change this limit, set the config variable\n",
      "`--NotebookApp.iopub_msg_rate_limit`.\n",
      "\n",
      "Current values:\n",
      "NotebookApp.iopub_msg_rate_limit=1000.0 (msgs/sec)\n",
      "NotebookApp.rate_limit_window=3.0 (secs)\n",
      "\n",
      "70.6%IOPub message rate exceeded.\n",
      "The notebook server will temporarily stop sending output\n",
      "to the client in order to avoid crashing it.\n",
      "To change this limit, set the config variable\n",
      "`--NotebookApp.iopub_msg_rate_limit`.\n",
      "\n",
      "Current values:\n",
      "NotebookApp.iopub_msg_rate_limit=1000.0 (msgs/sec)\n",
      "NotebookApp.rate_limit_window=3.0 (secs)\n",
      "\n",
      "90.4%IOPub message rate exceeded.\n",
      "The notebook server will temporarily stop sending output\n",
      "to the client in order to avoid crashing it.\n",
      "To change this limit, set the config variable\n",
      "`--NotebookApp.iopub_msg_rate_limit`.\n",
      "\n",
      "Current values:\n",
      "NotebookApp.iopub_msg_rate_limit=1000.0 (msgs/sec)\n",
      "NotebookApp.rate_limit_window=3.0 (secs)\n",
      "\n",
      "100.0%\n"
     ]
    },
    {
     "name": "stdout",
     "output_type": "stream",
     "text": [
      "Extracting ./data/FashionMNIST/raw/train-images-idx3-ubyte.gz to ./data/FashionMNIST/raw\n"
     ]
    },
    {
     "name": "stderr",
     "output_type": "stream",
     "text": [
      "100.6%"
     ]
    },
    {
     "name": "stdout",
     "output_type": "stream",
     "text": [
      "\n",
      "Downloading http://fashion-mnist.s3-website.eu-central-1.amazonaws.com/train-labels-idx1-ubyte.gz\n",
      "Downloading http://fashion-mnist.s3-website.eu-central-1.amazonaws.com/train-labels-idx1-ubyte.gz to ./data/FashionMNIST/raw/train-labels-idx1-ubyte.gz\n",
      "Extracting ./data/FashionMNIST/raw/train-labels-idx1-ubyte.gz to ./data/FashionMNIST/raw\n",
      "\n",
      "Downloading http://fashion-mnist.s3-website.eu-central-1.amazonaws.com/t10k-images-idx3-ubyte.gz\n"
     ]
    },
    {
     "name": "stderr",
     "output_type": "stream",
     "text": [
      "\n",
      "8.8%"
     ]
    },
    {
     "name": "stdout",
     "output_type": "stream",
     "text": [
      "Downloading http://fashion-mnist.s3-website.eu-central-1.amazonaws.com/t10k-images-idx3-ubyte.gz to ./data/FashionMNIST/raw/t10k-images-idx3-ubyte.gz\n"
     ]
    },
    {
     "name": "stderr",
     "output_type": "stream",
     "text": [
      "60.4%IOPub message rate exceeded.\n",
      "The notebook server will temporarily stop sending output\n",
      "to the client in order to avoid crashing it.\n",
      "To change this limit, set the config variable\n",
      "`--NotebookApp.iopub_msg_rate_limit`.\n",
      "\n",
      "Current values:\n",
      "NotebookApp.iopub_msg_rate_limit=1000.0 (msgs/sec)\n",
      "NotebookApp.rate_limit_window=3.0 (secs)\n",
      "\n"
     ]
    }
   ],
   "source": [
    "# if, for some reason, you are not using a UNIX-based operating system, \\\n",
    "# you might need to adjust the path arguments\n",
    "trainset = torchvision.datasets.FashionMNIST(root='./data', train=True,\n",
    "                                        download=True, transform=torchvision.transforms.ToTensor())\n",
    "testset = torchvision.datasets.FashionMNIST(root='./data', train=False,\n",
    "                                       download=True, transform=torchvision.transforms.ToTensor())\n",
    "label_names = {0:\"T-shirt/top\", 1:\"Trouser\", 2:\"Pullover\", 3:\"Dress\",\n",
    "               4:\"Coat\", 5:\"Sandal\", 6:\"Shirt\", 7:\"Sneaker\", 8:\"Bag\", \n",
    "               9:\"Ankle boot\"}"
   ]
  },
  {
   "cell_type": "markdown",
   "id": "0d3ebe17",
   "metadata": {},
   "source": [
    "### Task 4.2.1 Inspecting a sample from the data\n",
    "Choose a random sample from the training data, and:\n",
    "- print its shape\n",
    "- visualise the sample with an appropriate plot\n",
    "- print its label (or title the plot appropriately)"
   ]
  },
  {
   "cell_type": "code",
   "execution_count": 4,
   "id": "94ef3006",
   "metadata": {},
   "outputs": [
    {
     "name": "stdout",
     "output_type": "stream",
     "text": [
      "torch.Size([1, 28, 28])\n",
      "9\n"
     ]
    },
    {
     "data": {
      "image/png": "[encoded data removed]",
      "text/plain": [
       "<Figure size 432x288 with 1 Axes>"
      ]
     },
     "metadata": {
      "needs_background": "light"
     },
     "output_type": "display_data"
    }
   ],
   "source": [
    "# sample inspection here\n",
    "import matplotlib.pyplot as plt\n",
    "print(trainset[0][0].shape)\n",
    "plt.imshow(trainset[0][0].permute(1, 2, 0), cmap='gray')\n",
    "print(trainset[0][1])"
   ]
  },
  {
   "cell_type": "markdown",
   "id": "f0786fb6",
   "metadata": {},
   "source": [
    "### Task 4.2.2 Validation Split \n",
    "\n",
    "__YOU MAY EDIT PARTS OF THE NEXT CELL__\n",
    "\n",
    "In order to judge the quality of your training efforts, you might want to validate your model on a part of the data it has not seen yet. However, we cannot do that repeatedly on the test data set.\n",
    "\n",
    "Therefore, we can split off some data from our training data. Make a decision about the validation split! The more data you take off from the training set, the more accurate will your evaluation be. The less data you leave for actual training, the worse your model performance will be.\n",
    "\n",
    "_Hint:_ Currently, the validation size is 100, which seems a bit small."
   ]
  },
  {
   "cell_type": "code",
   "execution_count": 5,
   "id": "779e8770",
   "metadata": {},
   "outputs": [],
   "source": [
    "validation_size = 500 # set the size of your validation set\n",
    "trainset, valset = torch.utils.data.random_split(trainset, \n",
    "                                                 [len(trainset)-validation_size, validation_size], \n",
    "                                                 generator=torch.Generator().manual_seed(1337))"
   ]
  },
  {
   "cell_type": "markdown",
   "id": "1d1ad869",
   "metadata": {},
   "source": [
    "### 4.2.3 Torch DataLoader\n",
    "Now we can hand over our three datasets to the DataLoader class which brings a lot of convience to the training procedure. It can batch and shuffle our data.\n",
    "\n",
    "The batch size is set to 32 which is an appropriate value. You may change the batch_size for the trainloader, if you want.\n",
    "\n",
    "Shuffling is not needed for validation and testing because we are only running through the data once, anyway."
   ]
  },
  {
   "cell_type": "code",
   "execution_count": 6,
   "id": "4bfbc794",
   "metadata": {},
   "outputs": [],
   "source": [
    "trainloader = torch.utils.data.DataLoader(trainset, batch_size=32,\n",
    "                                          shuffle=True)\n",
    "\n",
    "testloader = torch.utils.data.DataLoader(testset, batch_size=32,\n",
    "                                         shuffle=False)\n",
    "\n",
    "valloader = torch.utils.data.DataLoader(valset, batch_size=32,\n",
    "                                         shuffle=False)"
   ]
  },
  {
   "cell_type": "markdown",
   "id": "15fcdffa",
   "metadata": {},
   "source": [
    "## Task 4.3 Building a Model with torch.nn.Sequential\n",
    "__YOU MAY EDIT PARTS OF THE NEXT CELL__\n",
    "\n",
    "We are going to use [torch.nn.Sequential](https://pytorch.org/docs/stable/generated/torch.nn.Sequential.html) to build a multi-layer perceptron (not a CNN!).\n",
    "You can simply supply [layers and building blocks](https://pytorch.org/docs/stable/nn.html) as arguments to create your network architecture in a sequential way, i.e. the data will flow through the network in the order they are listed as arguments.\n",
    "\n",
    "Useful modules for MLPs are:\n",
    "- [Linear Layers](https://pytorch.org/docs/stable/generated/torch.nn.Linear.html#torch.nn.Linear)\n",
    "- [Activation Functions](https://pytorch.org/docs/stable/nn.html#non-linear-activations-weighted-sum-nonlinearity)\n",
    "- [Dropout Layers](https://pytorch.org/docs/stable/nn.html#dropout-layers)\n",
    "\n",
    "The input to the model is an image, which has to be flattened to a vector, so that it is represented as suitable input for the MLP.\n",
    "\n",
    "The output must be a vector of size 10 (according to our labels/classes).\n",
    "\n",
    "You are supplied with a model that does not perform too well. You are free to build a MLP of your choosing. Be aware, that larger networks will take more time to train!\n",
    "\n",
    "Tips for experimentation:\n",
    "- Layer sizes\n",
    "- Number of layers\n",
    "- Activation functions\n",
    "- Dropout\n",
    "\n",
    "_Hint:_ What is known in PyTorch as a linear layer refers to a fully connected or dense layer."
   ]
  },
  {
   "cell_type": "code",
   "execution_count": 7,
   "id": "42cd8e5f",
   "metadata": {},
   "outputs": [],
   "source": [
    "model = nn.Sequential(nn.Flatten(),\n",
    "                      nn.Linear(28*28, 2000),\n",
    "                      nn.ReLU(),\n",
    "                      nn.Dropout(0.2),\n",
    "                      nn.Linear(2000, 1000),\n",
    "                      nn.ReLU(),\n",
    "                      nn.Dropout(0.2),\n",
    "                      nn.Linear(1000, 500),\n",
    "                      nn.ReLU(),\n",
    "                      nn.Dropout(0.2),\n",
    "                      nn.Linear(500, 200),\n",
    "                      nn.ReLU(),\n",
    "                      nn.Linear(200, 10),\n",
    "                      nn.Softmax()\n",
    "                      )"
   ]
  },
  {
   "cell_type": "markdown",
   "id": "78380467",
   "metadata": {},
   "source": [
    "## 4.4 Training the model\n",
    "Now that we have a model architecture, we will need to specify a training procedure."
   ]
  },
  {
   "cell_type": "markdown",
   "id": "89c9a2b8",
   "metadata": {},
   "source": [
    "### Task 4.4.1 Choosing hyperparameters\n",
    "__YOU MAY EDIT PARTS OF THE NEXT CELL__\n",
    "\n",
    "A few parameters for the training process need to be predefined and are not learned via gradient descent or backprop. We refere to these as hyperparameters.\n",
    "\n",
    "In the following, you are presented with four of those that shape the training process and can have great influence on the trained models performance.\n",
    "\n",
    "The machine-learning practictioner who set up this notebook apparently did not pay full attention to the lecture and literature. Although all lead to a working model, the values of some are not chosen to the best of our knowledge."
   ]
  },
  {
   "cell_type": "code",
   "execution_count": 8,
   "id": "f8969c81",
   "metadata": {},
   "outputs": [],
   "source": [
    "learning_rate = 0.01\n",
    "loss = nn.CrossEntropyLoss()\n",
    "optimizer = torch.optim.SGD(model.parameters(), lr=learning_rate)\n",
    "epochs = 10"
   ]
  },
  {
   "cell_type": "markdown",
   "id": "ddea12df",
   "metadata": {},
   "source": [
    "### 4.4.2 The train function\n",
    "This function trains your model for one epoch and keeps track of the correct/incorrect predictions.\n",
    "\n",
    "It takes a model, a dataloader, and optimizer and a loss function, trains the model for one epoch and returns the mean loss over the epoch as well as the accuracy."
   ]
  },
  {
   "cell_type": "code",
   "execution_count": 9,
   "id": "b84f817f",
   "metadata": {},
   "outputs": [],
   "source": [
    "def train(model, dataloader, optimizer, loss):\n",
    "    epoch_loss = []\n",
    "    model.train()\n",
    "    correct = 0\n",
    "    total = 0\n",
    "    for img, lbl in dataloader:\n",
    "        optimizer.zero_grad() \n",
    "        out = model(img) \n",
    "        logits, indices = torch.max(out, 1)\n",
    "        correct += torch.sum(indices == lbl).item()\n",
    "        total += len(lbl)\n",
    "        batch_loss = loss(out, lbl) \n",
    "        batch_loss.backward() \n",
    "        optimizer.step() \n",
    "        epoch_loss.append(batch_loss.item()) \n",
    "    return np.mean(epoch_loss), correct/total"
   ]
  },
  {
   "cell_type": "markdown",
   "id": "bca68321",
   "metadata": {},
   "source": [
    "### 4.4.3 The validation function\n",
    "This function evaluations your model on specified data.\n",
    "\n",
    "It takes a model and a dataloader and returns the accuracy."
   ]
  },
  {
   "cell_type": "code",
   "execution_count": 10,
   "id": "01c879d8",
   "metadata": {},
   "outputs": [],
   "source": [
    "def evaluate(model, dataloader):\n",
    "    model.eval()\n",
    "    correct = 0\n",
    "    total = 0\n",
    "    for img, lbl in dataloader:\n",
    "        out = model(img)\n",
    "        logits, indices = torch.max(out, 1)\n",
    "        correct += torch.sum(indices == lbl).item()\n",
    "        total += len(lbl)\n",
    "    return correct/total"
   ]
  },
  {
   "cell_type": "markdown",
   "id": "65e2c6b9",
   "metadata": {},
   "source": [
    "### Task 4.4.4 The training loop\n",
    "Write the training loop for your model:\n",
    "- Call the train function for your model for the specified number of epochs. \n",
    "- For each epoch, keep track of the loss and the training accuracy.\n",
    "- You should also keep track of the validation accuracy, to judge the models actual performance on unseen data.\n",
    "- Store all values for visualisation purposes later on.\n",
    "\n",
    "Run your training loop! Depending on the size of your network architecture and the number of epochs, this might take a few minutes."
   ]
  },
  {
   "cell_type": "code",
   "execution_count": 11,
   "id": "706fa46e",
   "metadata": {
    "scrolled": true
   },
   "outputs": [
    {
     "name": "stderr",
     "output_type": "stream",
     "text": [
      "/mnt/super_raid/uni/dais/env/lib/python3.9/site-packages/torch/nn/modules/container.py:119: UserWarning: Implicit dimension choice for softmax has been deprecated. Change the call to include dim=X as an argument.\n",
      "  input = module(input)\n"
     ]
    },
    {
     "name": "stdout",
     "output_type": "stream",
     "text": [
      "trainings-loss:  2.3021224434657763\n",
      "training-acc:  0.10020168067226891\n",
      "valacc 0.076\n",
      "trainings-loss:  2.3007058475607183\n",
      "training-acc:  0.10164705882352941\n",
      "valacc 0.082\n",
      "trainings-loss:  2.2961514831871113\n",
      "training-acc:  0.14746218487394958\n",
      "valacc 0.228\n",
      "trainings-loss:  2.251135077399592\n",
      "training-acc:  0.25142857142857145\n",
      "valacc 0.276\n",
      "trainings-loss:  2.0267436515900394\n",
      "training-acc:  0.4664201680672269\n",
      "valacc 0.618\n",
      "trainings-loss:  1.8231829731054203\n",
      "training-acc:  0.662016806722689\n",
      "valacc 0.754\n",
      "trainings-loss:  1.7592098191861183\n",
      "training-acc:  0.724890756302521\n",
      "valacc 0.788\n",
      "trainings-loss:  1.729003620404069\n",
      "training-acc:  0.7454453781512606\n",
      "valacc 0.772\n",
      "trainings-loss:  1.7125741550999303\n",
      "training-acc:  0.7572268907563026\n",
      "valacc 0.796\n",
      "trainings-loss:  1.6993244929339295\n",
      "training-acc:  0.7694453781512605\n",
      "valacc 0.804\n"
     ]
    }
   ],
   "source": [
    "# training loop here\n",
    "lossarr = []\n",
    "accarr = []\n",
    "valaccarr = []\n",
    "for i in range(epochs):\n",
    "    trloss,tracc = train(model, trainloader, optimizer, loss)\n",
    "    valacc = evaluate(model, valloader)\n",
    "    lossarr.append(trloss)\n",
    "    accarr.append(tracc)\n",
    "    valaccarr.append(valacc)\n",
    "    print(\"trainings-loss: \", trloss)\n",
    "    print(\"training-acc: \", tracc)\n",
    "    print(\"valacc\", valacc)"
   ]
  },
  {
   "cell_type": "markdown",
   "id": "1a130c63",
   "metadata": {},
   "source": [
    "### Task 4.4.5 Visualise the training\n",
    "Visually inspecting the models behaviour over the training period can give insights on problems and performance issues.\n",
    "\n",
    "Plot:\n",
    "- the training loss and the training accuracy\n",
    "- the validation accuracy\n",
    "\n",
    "over the epochs."
   ]
  },
  {
   "cell_type": "code",
   "execution_count": 12,
   "id": "81d29a3e",
   "metadata": {},
   "outputs": [
    {
     "data": {
      "image/png": "[encoded data removed]",
      "text/plain": [
       "<Figure size 432x288 with 1 Axes>"
      ]
     },
     "metadata": {
      "needs_background": "light"
     },
     "output_type": "display_data"
    }
   ],
   "source": [
    "# plot loss\n",
    "epochs = np.arange(len(lossarr))\n",
    "plt.scatter(epochs, lossarr)\n",
    "plt.show()"
   ]
  },
  {
   "cell_type": "code",
   "execution_count": 13,
   "id": "6b02f989",
   "metadata": {},
   "outputs": [
    {
     "data": {
      "image/png": "[encoded data removed]",
      "text/plain": [
       "<Figure size 432x288 with 1 Axes>"
      ]
     },
     "metadata": {
      "needs_background": "light"
     },
     "output_type": "display_data"
    }
   ],
   "source": [
    "# plot acc\n",
    "epochs = np.arange(len(valaccarr))\n",
    "plt.scatter(epochs, valaccarr)\n",
    "plt.scatter(epochs, accarr, c='red')\n",
    "\n",
    "plt.show()"
   ]
  },
  {
   "cell_type": "markdown",
   "id": "4c3b95b0",
   "metadata": {},
   "source": [
    "## 4.5 Testing your model\n",
    "The following should only be executed once. If you are not satisfied with your model performance, go back a few steps and tune your model with different parameters or change the model architecture.\n",
    "\n",
    "If you are checking your model's performance on the test set and then tune it for better performance, you are essentially fitting your model to the test set. Your actual generalization capabilities will decrease."
   ]
  },
  {
   "cell_type": "code",
   "execution_count": 14,
   "id": "27b6f224",
   "metadata": {},
   "outputs": [
    {
     "name": "stdout",
     "output_type": "stream",
     "text": [
      "Your model correctly classified 77.58 % of all samples.\n"
     ]
    }
   ],
   "source": [
    "test_acc = evaluate(model, testloader)\n",
    "print(\"Your model correctly classified\", round(test_acc*100,2), \n",
    "      \"% of all samples.\")"
   ]
  },
  {
   "cell_type": "markdown",
   "id": "eebfb140",
   "metadata": {},
   "source": [
    "### Task 4.5.1 Prediction capabilities of the model\n",
    "Although we now know the average prediction performance of the model on unseen data, not all data is as equally distributed as our training data. Some classes can be harder to predict, than others.\n",
    "\n",
    "Analyse your models performance on the different classes and plot the prediction accuracies on the test set over the 10 classes."
   ]
  },
  {
   "cell_type": "code",
   "execution_count": 97,
   "id": "692b38b9",
   "metadata": {},
   "outputs": [
    {
     "ename": "NameError",
     "evalue": "name 'dataset_full' is not defined",
     "output_type": "error",
     "traceback": [
      "\u001b[1;31m---------------------------------------------------------------------------\u001b[0m",
      "\u001b[1;31mNameError\u001b[0m                                 Traceback (most recent call last)",
      "\u001b[1;32m<ipython-input-97-2739c7e154e5>\u001b[0m in \u001b[0;36m<module>\u001b[1;34m\u001b[0m\n\u001b[0;32m      1\u001b[0m \u001b[1;31m# plot acc for classes\u001b[0m\u001b[1;33m\u001b[0m\u001b[1;33m\u001b[0m\u001b[1;33m\u001b[0m\u001b[0m\n\u001b[0;32m      2\u001b[0m \u001b[0midx\u001b[0m \u001b[1;33m=\u001b[0m \u001b[1;33m(\u001b[0m\u001b[0mtestset\u001b[0m\u001b[1;33m.\u001b[0m\u001b[0mtargets\u001b[0m\u001b[1;33m==\u001b[0m\u001b[1;36m7\u001b[0m\u001b[1;33m)\u001b[0m\u001b[1;33m\u001b[0m\u001b[1;33m\u001b[0m\u001b[0m\n\u001b[1;32m----> 3\u001b[1;33m \u001b[0mdataset_full\u001b[0m\u001b[1;33m.\u001b[0m\u001b[0mtargets\u001b[0m \u001b[1;33m=\u001b[0m \u001b[0mdataset_full\u001b[0m\u001b[1;33m.\u001b[0m\u001b[0mtargets\u001b[0m\u001b[1;33m[\u001b[0m\u001b[0midx\u001b[0m\u001b[1;33m]\u001b[0m\u001b[1;33m\u001b[0m\u001b[1;33m\u001b[0m\u001b[0m\n\u001b[0m\u001b[0;32m      4\u001b[0m \u001b[0mdataset_full\u001b[0m\u001b[1;33m.\u001b[0m\u001b[0mdata\u001b[0m \u001b[1;33m=\u001b[0m \u001b[0mdataset_full\u001b[0m\u001b[1;33m.\u001b[0m\u001b[0mdata\u001b[0m\u001b[1;33m[\u001b[0m\u001b[0midx\u001b[0m\u001b[1;33m]\u001b[0m\u001b[1;33m\u001b[0m\u001b[1;33m\u001b[0m\u001b[0m\n\u001b[0;32m      5\u001b[0m testloader = torch.utils.data.DataLoader(testset, batch_size=32,\n",
      "\u001b[1;31mNameError\u001b[0m: name 'dataset_full' is not defined"
     ]
    }
   ],
   "source": []
  },
  {
   "cell_type": "code",
   "execution_count": null,
   "id": "06a4fe6a",
   "metadata": {},
   "outputs": [],
   "source": []
  }
 ],
 "metadata": {
  "kernelspec": {
   "display_name": "Python 3",
   "language": "python",
   "name": "python3"
  },
  "language_info": {
   "codemirror_mode": {
    "name": "ipython",
    "version": 3
   },
   "file_extension": ".py",
   "mimetype": "text/x-python",
   "name": "python",
   "nbconvert_exporter": "python",
   "pygments_lexer": "ipython3",
   "version": "3.9.5"
  }
 },
 "nbformat": 4,
 "nbformat_minor": 5
}
